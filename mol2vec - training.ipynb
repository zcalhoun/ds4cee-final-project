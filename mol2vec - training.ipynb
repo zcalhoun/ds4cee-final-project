{
 "cells": [
  {
   "cell_type": "code",
   "execution_count": 1,
   "id": "79e75518",
   "metadata": {},
   "outputs": [],
   "source": [
    "import pandas as pd\n",
    "\n",
    "from mol2vec import features\n",
    "from mol2vec.features import mol2sentence\n",
    "from mol2vec.features import sentences2vec\n",
    "from rdkit import Chem\n",
    "\n",
    "from sklearn.model_selection import train_test_split\n",
    "\n",
    "from gensim.models import word2vec"
   ]
  },
  {
   "cell_type": "code",
   "execution_count": 2,
   "id": "18a3360b",
   "metadata": {},
   "outputs": [],
   "source": [
    "# Read in the data.\n",
    "df = pd.read_csv('./data/clean_henrys.csv', index_col=0)"
   ]
  },
  {
   "cell_type": "code",
   "execution_count": 4,
   "id": "0c9b5be2",
   "metadata": {},
   "outputs": [],
   "source": [
    "smiles = df['canonical_smiles']"
   ]
  },
  {
   "cell_type": "code",
   "execution_count": 7,
   "id": "729582f6",
   "metadata": {},
   "outputs": [],
   "source": [
    "chemicals = [Chem.MolFromSmiles(s) for s in smiles]\n",
    "sentences = [mol2sentence(c, 1) for c in chemicals]"
   ]
  },
  {
   "cell_type": "code",
   "execution_count": 8,
   "id": "415943da",
   "metadata": {},
   "outputs": [
    {
     "data": {
      "text/plain": [
       "([['2246728737', '3388977530', '2246728737', '2246728737', '864662311'],\n",
       "  ['392737424', '2546348154', '392737424', '392737424', '390582892']],\n",
       " ['2246728737',\n",
       "  '392737424',\n",
       "  '3388977530',\n",
       "  '2546348154',\n",
       "  '2246728737',\n",
       "  '392737424',\n",
       "  '2246728737',\n",
       "  '392737424',\n",
       "  '864662311',\n",
       "  '390582892'])"
      ]
     },
     "execution_count": 8,
     "metadata": {},
     "output_type": "execute_result"
    }
   ],
   "source": [
    "sentences[0]"
   ]
  },
  {
   "cell_type": "code",
   "execution_count": 9,
   "id": "6086300e",
   "metadata": {},
   "outputs": [
    {
     "data": {
      "image/png": "[encoded data removed]",
      "text/plain": [
       "<rdkit.Chem.rdchem.Mol at 0x11fbaf2e0>"
      ]
     },
     "execution_count": 9,
     "metadata": {},
     "output_type": "execute_result"
    }
   ],
   "source": [
    "chemicals[0]"
   ]
  }
 ],
 "metadata": {
  "kernelspec": {
   "display_name": "Python 3 (ipykernel)",
   "language": "python",
   "name": "python3"
  },
  "language_info": {
   "codemirror_mode": {
    "name": "ipython",
    "version": 3
   },
   "file_extension": ".py",
   "mimetype": "text/x-python",
   "name": "python",
   "nbconvert_exporter": "python",
   "pygments_lexer": "ipython3",
   "version": "3.9.12"
  }
 },
 "nbformat": 4,
 "nbformat_minor": 5
}
