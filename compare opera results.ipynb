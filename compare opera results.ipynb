{
 "cells": [
  {
   "cell_type": "code",
   "execution_count": 1,
   "id": "8414a3c7",
   "metadata": {},
   "outputs": [],
   "source": [
    "import pandas as pd\n",
    "import numpy as np"
   ]
  },
  {
   "cell_type": "code",
   "execution_count": 2,
   "id": "7e5f37c5",
   "metadata": {},
   "outputs": [],
   "source": [
    "df = pd.read_csv('./data/CCD-Batch-Search_2022-04-18_06_31_03.csv')"
   ]
  },
  {
   "cell_type": "code",
   "execution_count": 3,
   "id": "0d509c78",
   "metadata": {},
   "outputs": [
    {
     "data": {
      "text/html": [
       "<div>\n",
       "<style scoped>\n",
       "    .dataframe tbody tr th:only-of-type {\n",
       "        vertical-align: middle;\n",
       "    }\n",
       "\n",
       "    .dataframe tbody tr th {\n",
       "        vertical-align: top;\n",
       "    }\n",
       "\n",
       "    .dataframe thead th {\n",
       "        text-align: right;\n",
       "    }\n",
       "</style>\n",
       "<table border=\"1\" class=\"dataframe\">\n",
       "  <thead>\n",
       "    <tr style=\"text-align: right;\">\n",
       "      <th></th>\n",
       "      <th>INPUT</th>\n",
       "      <th>FOUND_BY</th>\n",
       "      <th>DTXSID</th>\n",
       "      <th>PREFERRED_NAME</th>\n",
       "      <th>HENRYS_LAW_ATM-M3/MOLE_OPERA_PRED</th>\n",
       "      <th>Henry's Law mol/m3-Pa</th>\n",
       "      <th>Measured</th>\n",
       "    </tr>\n",
       "  </thead>\n",
       "  <tbody>\n",
       "    <tr>\n",
       "      <th>0</th>\n",
       "      <td>AAPLIUHOKVUFCC-UHFFFAOYSA-N</td>\n",
       "      <td>InChIKey</td>\n",
       "      <td>DTXSID7061433</td>\n",
       "      <td>Trimethylsilanol</td>\n",
       "      <td>0.000019</td>\n",
       "      <td>0.525381</td>\n",
       "      <td>0.070000</td>\n",
       "    </tr>\n",
       "    <tr>\n",
       "      <th>1</th>\n",
       "      <td>ABVVEAHYODGCLZ-UHFFFAOYSA-N</td>\n",
       "      <td>InChIKey</td>\n",
       "      <td>DTXSID0022199</td>\n",
       "      <td>Tridecylamine</td>\n",
       "      <td>0.000022</td>\n",
       "      <td>0.457897</td>\n",
       "      <td>0.090000</td>\n",
       "    </tr>\n",
       "    <tr>\n",
       "      <th>2</th>\n",
       "      <td>AFABGHUZZDYHJO-UHFFFAOYSA-N</td>\n",
       "      <td>InChIKey</td>\n",
       "      <td>DTXSID4029143</td>\n",
       "      <td>2-Methylpentane</td>\n",
       "      <td>0.467213</td>\n",
       "      <td>0.000021</td>\n",
       "      <td>0.000013</td>\n",
       "    </tr>\n",
       "    <tr>\n",
       "      <th>3</th>\n",
       "      <td>AFYPFACVUDMOHA-UHFFFAOYSA-N</td>\n",
       "      <td>InChIKey</td>\n",
       "      <td>DTXSID4052500</td>\n",
       "      <td>Chlorotrifluoromethane</td>\n",
       "      <td>1.380030</td>\n",
       "      <td>0.000007</td>\n",
       "      <td>0.000009</td>\n",
       "    </tr>\n",
       "    <tr>\n",
       "      <th>4</th>\n",
       "      <td>AGDYNDJUZRMYRG-UHFFFAOYSA-N</td>\n",
       "      <td>InChIKey</td>\n",
       "      <td>DTXSID8066636</td>\n",
       "      <td>Nitric acid, hexyl ester</td>\n",
       "      <td>0.001492</td>\n",
       "      <td>0.006615</td>\n",
       "      <td>0.007600</td>\n",
       "    </tr>\n",
       "  </tbody>\n",
       "</table>\n",
       "</div>"
      ],
      "text/plain": [
       "                         INPUT  FOUND_BY         DTXSID  \\\n",
       "0  AAPLIUHOKVUFCC-UHFFFAOYSA-N  InChIKey  DTXSID7061433   \n",
       "1  ABVVEAHYODGCLZ-UHFFFAOYSA-N  InChIKey  DTXSID0022199   \n",
       "2  AFABGHUZZDYHJO-UHFFFAOYSA-N  InChIKey  DTXSID4029143   \n",
       "3  AFYPFACVUDMOHA-UHFFFAOYSA-N  InChIKey  DTXSID4052500   \n",
       "4  AGDYNDJUZRMYRG-UHFFFAOYSA-N  InChIKey  DTXSID8066636   \n",
       "\n",
       "             PREFERRED_NAME  HENRYS_LAW_ATM-M3/MOLE_OPERA_PRED  \\\n",
       "0          Trimethylsilanol                           0.000019   \n",
       "1             Tridecylamine                           0.000022   \n",
       "2           2-Methylpentane                           0.467213   \n",
       "3    Chlorotrifluoromethane                           1.380030   \n",
       "4  Nitric acid, hexyl ester                           0.001492   \n",
       "\n",
       "   Henry's Law mol/m3-Pa  Measured  \n",
       "0               0.525381  0.070000  \n",
       "1               0.457897  0.090000  \n",
       "2               0.000021  0.000013  \n",
       "3               0.000007  0.000009  \n",
       "4               0.006615  0.007600  "
      ]
     },
     "execution_count": 3,
     "metadata": {},
     "output_type": "execute_result"
    }
   ],
   "source": [
    "df.head()"
   ]
  },
  {
   "cell_type": "code",
   "execution_count": 4,
   "id": "2ff93c88",
   "metadata": {},
   "outputs": [],
   "source": [
    "log_est = np.log10(df[\"Henry's Law mol/m3-Pa\"])\n",
    "log_meas = np.log10(df['Measured'])"
   ]
  },
  {
   "cell_type": "code",
   "execution_count": 12,
   "id": "fa170983",
   "metadata": {},
   "outputs": [],
   "source": [
    "from sklearn.metrics import mean_squared_error\n",
    "from sklearn.metrics import r2_score"
   ]
  },
  {
   "cell_type": "code",
   "execution_count": 14,
   "id": "743e9334-3af2-4be9-ba27-462c1a73b004",
   "metadata": {},
   "outputs": [
    {
     "data": {
      "text/plain": [
       "0.7254064944444989"
      ]
     },
     "execution_count": 14,
     "metadata": {},
     "output_type": "execute_result"
    }
   ],
   "source": [
    "r2_score(log_meas, log_est)"
   ]
  },
  {
   "cell_type": "code",
   "execution_count": null,
   "id": "eef61716",
   "metadata": {},
   "outputs": [],
   "source": []
  },
  {
   "cell_type": "code",
   "execution_count": 6,
   "id": "dcf71599",
   "metadata": {},
   "outputs": [
    {
     "data": {
      "text/plain": [
       "1.0263441282826227"
      ]
     },
     "execution_count": 6,
     "metadata": {},
     "output_type": "execute_result"
    }
   ],
   "source": [
    "mean_squared_error(log_est, log_meas)"
   ]
  },
  {
   "cell_type": "code",
   "execution_count": 7,
   "id": "e3e4c839",
   "metadata": {},
   "outputs": [
    {
     "data": {
      "text/plain": [
       "<matplotlib.collections.PathCollection at 0x7fc604202460>"
      ]
     },
     "execution_count": 7,
     "metadata": {},
     "output_type": "execute_result"
    },
    {
     "data": {
      "image/png": "[encoded data removed]",
      "text/plain": [
       "<Figure size 432x288 with 1 Axes>"
      ]
     },
     "metadata": {
      "needs_background": "light"
     },
     "output_type": "display_data"
    }
   ],
   "source": [
    "import matplotlib.pyplot as plt\n",
    "plt.scatter(log_est, log_meas)"
   ]
  },
  {
   "cell_type": "code",
   "execution_count": 11,
   "id": "682039e0-6460-46b7-8a8b-49f6eb2aa6ba",
   "metadata": {},
   "outputs": [
    {
     "data": {
      "text/html": [
       "<div>\n",
       "<style scoped>\n",
       "    .dataframe tbody tr th:only-of-type {\n",
       "        vertical-align: middle;\n",
       "    }\n",
       "\n",
       "    .dataframe tbody tr th {\n",
       "        vertical-align: top;\n",
       "    }\n",
       "\n",
       "    .dataframe thead th {\n",
       "        text-align: right;\n",
       "    }\n",
       "</style>\n",
       "<table border=\"1\" class=\"dataframe\">\n",
       "  <thead>\n",
       "    <tr style=\"text-align: right;\">\n",
       "      <th></th>\n",
       "      <th>INPUT</th>\n",
       "      <th>FOUND_BY</th>\n",
       "      <th>DTXSID</th>\n",
       "      <th>PREFERRED_NAME</th>\n",
       "      <th>HENRYS_LAW_ATM-M3/MOLE_OPERA_PRED</th>\n",
       "      <th>Henry's Law mol/m3-Pa</th>\n",
       "      <th>Measured</th>\n",
       "    </tr>\n",
       "  </thead>\n",
       "  <tbody>\n",
       "    <tr>\n",
       "      <th>715</th>\n",
       "      <td>VNWKTOKETHGBQD-UHFFFAOYSA-N</td>\n",
       "      <td>InChIKey</td>\n",
       "      <td>DTXSID8025545</td>\n",
       "      <td>Methane</td>\n",
       "      <td>0.062751</td>\n",
       "      <td>0.000157</td>\n",
       "      <td>0.000013</td>\n",
       "    </tr>\n",
       "  </tbody>\n",
       "</table>\n",
       "</div>"
      ],
      "text/plain": [
       "                           INPUT  FOUND_BY         DTXSID PREFERRED_NAME  \\\n",
       "715  VNWKTOKETHGBQD-UHFFFAOYSA-N  InChIKey  DTXSID8025545        Methane   \n",
       "\n",
       "     HENRYS_LAW_ATM-M3/MOLE_OPERA_PRED  Henry's Law mol/m3-Pa  Measured  \n",
       "715                           0.062751               0.000157  0.000013  "
      ]
     },
     "execution_count": 11,
     "metadata": {},
     "output_type": "execute_result"
    }
   ],
   "source": [
    "df[df['PREFERRED_NAME'] == 'Methane']"
   ]
  }
 ],
 "metadata": {
  "kernelspec": {
   "display_name": "Python 3 (ipykernel)",
   "language": "python",
   "name": "python3"
  },
  "language_info": {
   "codemirror_mode": {
    "name": "ipython",
    "version": 3
   },
   "file_extension": ".py",
   "mimetype": "text/x-python",
   "name": "python",
   "nbconvert_exporter": "python",
   "pygments_lexer": "ipython3",
   "version": "3.9.12"
  }
 },
 "nbformat": 4,
 "nbformat_minor": 5
}
