{
 "cells": [
  {
   "cell_type": "markdown",
   "id": "389c7aa3",
   "metadata": {},
   "source": [
    "# In this notebook\n",
    "I explore mol2vec to see if I can extract information from these learned embeddings."
   ]
  },
  {
   "cell_type": "code",
   "execution_count": 13,
   "id": "a8756ca9",
   "metadata": {},
   "outputs": [],
   "source": [
    "import pandas as pd\n",
    "\n",
    "from mol2vec import features\n",
    "from mol2vec.features import mol2sentence\n",
    "from mol2vec.features import sentences2vec\n",
    "from rdkit import Chem\n",
    "\n",
    "from sklearn.model_selection import train_test_split\n",
    "\n",
    "import matplotlib.pyplot as plt\n",
    "\n",
    "from gensim.models import word2vec"
   ]
  },
  {
   "cell_type": "code",
   "execution_count": 2,
   "id": "2a3bd7d5",
   "metadata": {},
   "outputs": [],
   "source": [
    "# Read in the data.\n",
    "df = pd.read_csv('./data/clean_henrys.csv', index_col=0)"
   ]
  },
  {
   "cell_type": "code",
   "execution_count": 3,
   "id": "3dcb7e93",
   "metadata": {},
   "outputs": [],
   "source": [
    "smiles = df['canonical_smiles']\n",
    "\n",
    "chemicals = [Chem.MolFromSmiles(s) for s in smiles]\n",
    "sentences = [mol2sentence(c, 1)[1] for c in chemicals]"
   ]
  },
  {
   "cell_type": "code",
   "execution_count": 4,
   "id": "8d0eabec",
   "metadata": {},
   "outputs": [
    {
     "data": {
      "text/plain": [
       "['2246728737',\n",
       " '392737424',\n",
       " '3388977530',\n",
       " '2546348154',\n",
       " '2246728737',\n",
       " '392737424',\n",
       " '2246728737',\n",
       " '392737424',\n",
       " '864662311',\n",
       " '390582892']"
      ]
     },
     "execution_count": 4,
     "metadata": {},
     "output_type": "execute_result"
    }
   ],
   "source": [
    "# So now we have a list of sentences that depicts the identifiers\n",
    "# for all radii combined. Note that this is a simpler representation\n",
    "# Let's look at an individual sentence\n",
    "sentences[0]"
   ]
  },
  {
   "cell_type": "code",
   "execution_count": 5,
   "id": "8603421a",
   "metadata": {},
   "outputs": [
    {
     "data": {
      "image/png": "[encoded data removed]",
      "text/plain": [
       "<rdkit.Chem.rdchem.Mol at 0x10e121d60>"
      ]
     },
     "execution_count": 5,
     "metadata": {},
     "output_type": "execute_result"
    }
   ],
   "source": [
    "chemicals[0]"
   ]
  },
  {
   "cell_type": "code",
   "execution_count": 15,
   "id": "eea62849",
   "metadata": {},
   "outputs": [],
   "source": [
    "m = Chem.MolFromSmiles('c1ccccc1')"
   ]
  },
  {
   "cell_type": "code",
   "execution_count": 19,
   "id": "05b78a3b",
   "metadata": {},
   "outputs": [
    {
     "name": "stdout",
     "output_type": "stream",
     "text": [
      "<rdkit.Chem.rdchem.Bond object at 0x125cce4c0>\n",
      "<rdkit.Chem.rdchem.Bond object at 0x125105ac0>\n",
      "<rdkit.Chem.rdchem.Bond object at 0x125cce4c0>\n",
      "<rdkit.Chem.rdchem.Bond object at 0x125105ac0>\n",
      "<rdkit.Chem.rdchem.Bond object at 0x125cce4c0>\n",
      "<rdkit.Chem.rdchem.Bond object at 0x125105ac0>\n"
     ]
    }
   ],
   "source": [
    "for atom in m.GetAtoms():\n",
    "    print(atom.GetBonds()[0])"
   ]
  },
  {
   "cell_type": "code",
   "execution_count": 32,
   "id": "c0949697",
   "metadata": {},
   "outputs": [
    {
     "name": "stdout",
     "output_type": "stream",
     "text": [
      "AROMATIC\n",
      "AROMATIC\n",
      "AROMATIC\n",
      "AROMATIC\n",
      "AROMATIC\n",
      "AROMATIC\n"
     ]
    }
   ],
   "source": [
    "for b in m.GetBonds():\n",
    "    print(b.GetBondType())"
   ]
  },
  {
   "cell_type": "code",
   "execution_count": 4,
   "id": "4951cad8",
   "metadata": {},
   "outputs": [],
   "source": [
    "# Load in the model that was pretrained on\n",
    "model = word2vec.Word2Vec.load('./models/model_300dim.pkl')"
   ]
  },
  {
   "cell_type": "code",
   "execution_count": 13,
   "id": "5aa3d36c",
   "metadata": {},
   "outputs": [
    {
     "data": {
      "text/plain": [
       "array([-0.13674529,  0.06729241, -0.05213054, -0.00750703,  0.28921816,\n",
       "       -0.13024387, -0.18778022, -0.08180202,  0.17663261, -0.23623651,\n",
       "        0.15215029,  0.03104335,  0.22715245, -0.00406356,  0.0321878 ,\n",
       "       -0.14886402,  0.35155123,  0.05230371,  0.25634497,  0.14891872,\n",
       "       -0.0038601 ,  0.16931136,  0.31372482,  0.01881147, -0.19952172,\n",
       "        0.03404459, -0.04627627, -0.21893106,  0.12341108,  0.05439068,\n",
       "        0.05448844, -0.04903906, -0.31361288, -0.33548406, -0.04213666,\n",
       "       -0.14339392, -0.0289033 , -0.0923715 ,  0.18249372,  0.1544386 ,\n",
       "       -0.09051799,  0.07533539, -0.01364344, -0.17796858, -0.06144299,\n",
       "       -0.00402305, -0.10959177,  0.09328562, -0.08955006,  0.15117231,\n",
       "        0.12398589, -0.20872705,  0.3017063 , -0.16636986, -0.26913744,\n",
       "       -0.12916061, -0.15348934,  0.11056198, -0.02592117, -0.06371941,\n",
       "       -0.19357003,  0.00200986, -0.05617516,  0.0011254 , -0.5563765 ,\n",
       "        0.04836231, -0.00086217,  0.08364478, -0.30566263,  0.05098777,\n",
       "       -0.18168226, -0.05597195,  0.16948685, -0.34895483, -0.11175051,\n",
       "        0.18379432, -0.34670404,  0.07184295, -0.09719606,  0.09915338,\n",
       "        0.08403989, -0.04270008, -0.148339  ,  0.0652043 , -0.07228404,\n",
       "        0.22070777, -0.43832958,  0.0781073 , -0.04283297,  0.1431017 ,\n",
       "        0.0908988 ,  0.03569854,  0.23337738, -0.04734522, -0.01105812,\n",
       "        0.00972605,  0.28788242,  0.0243886 ,  0.41373864,  0.03406619,\n",
       "       -0.2401466 ,  0.05610822, -0.14427629, -0.08660652,  0.20755716,\n",
       "       -0.20892158, -0.09974009,  0.09012346,  0.18233497, -0.13779083,\n",
       "       -0.17007937,  0.06375453,  0.14373694, -0.156505  ,  0.3309577 ,\n",
       "        0.05715752,  0.13918184,  0.10836643, -0.15895316,  0.05171277,\n",
       "       -0.02299279, -0.12907496, -0.16306238,  0.01277268,  0.4405552 ,\n",
       "       -0.47142813, -0.27449483, -0.04964744, -0.25954133, -0.02933829,\n",
       "       -0.10781618,  0.10545976,  0.1337037 ,  0.29065242,  0.06104439,\n",
       "        0.29627097,  0.07431603, -0.09321141,  0.30206367, -0.15786779,\n",
       "        0.44652346,  0.13037835, -0.12674405, -0.24429454,  0.23400094,\n",
       "        0.15545401,  0.27796578,  0.21138425, -0.03208352,  0.10680749,\n",
       "        0.19857821,  0.02273032,  0.05918972, -0.21662341,  0.01432981,\n",
       "        0.0773292 , -0.19141845,  0.0290191 , -0.04513581, -0.02734022,\n",
       "        0.03020228, -0.00675071,  0.00701926,  0.13004053, -0.00089081,\n",
       "       -0.10150877, -0.14540684,  0.08851185, -0.08612014,  0.26112366,\n",
       "       -0.18893693, -0.33418697,  0.34684405,  0.07827491,  0.01072423,\n",
       "        0.19667141,  0.00231099, -0.08960607,  0.15515909,  0.19884776,\n",
       "       -0.14996834,  0.16920476,  0.18261556,  0.27904275, -0.16207613,\n",
       "       -0.20924504, -0.03824777, -0.09231053,  0.05619818,  0.01430795,\n",
       "       -0.08117432,  0.13028349, -0.04125473,  0.12136912, -0.00522419,\n",
       "        0.03429336, -0.15421674, -0.16319767,  0.32559872,  0.08896279,\n",
       "        0.0118019 ,  0.43621996,  0.0455192 ,  0.12887767,  0.20017833,\n",
       "       -0.00867565,  0.2330161 ,  0.13480206,  0.18835807,  0.06361615,\n",
       "        0.32122177, -0.21045318,  0.329464  , -0.00715193,  0.2516931 ,\n",
       "       -0.01098271,  0.2702733 ,  0.18476525, -0.23744667, -0.14795783,\n",
       "        0.190313  , -0.27812076, -0.29184455, -0.04227875,  0.2205422 ,\n",
       "        0.03001872,  0.03675783, -0.06918219,  0.17332576, -0.13879837,\n",
       "        0.09887955, -0.20428179, -0.11132537, -0.06997354, -0.09566116,\n",
       "       -0.07564585, -0.00809379, -0.04995312, -0.0736289 ,  0.08377531,\n",
       "        0.20479015, -0.30918208,  0.30780312,  0.16735914,  0.0157869 ,\n",
       "        0.16679156, -0.4107111 , -0.02003271, -0.13787375, -0.02577495,\n",
       "       -0.17272459,  0.28239223, -0.12668557, -0.16652995, -0.3955861 ,\n",
       "       -0.02114178,  0.26368934, -0.15610906, -0.02002084, -0.3132737 ,\n",
       "        0.08327289,  0.13066292, -0.10092953,  0.30515176,  0.03596961,\n",
       "        0.07259846, -0.04902325,  0.15007989, -0.04259987, -0.139411  ,\n",
       "        0.12266414,  0.4808227 , -0.10953122,  0.08109549,  0.04150596,\n",
       "       -0.18364957,  0.12575369,  0.01968931, -0.00841899,  0.17842798,\n",
       "       -0.27829316, -0.03341469, -0.1828682 , -0.24283977,  0.01783336,\n",
       "        0.08823962,  0.01291481,  0.06941471, -0.19012313,  0.15719236,\n",
       "       -0.04963464, -0.04948663, -0.10518268,  0.01600302, -0.15689032,\n",
       "       -0.17991139,  0.03942981, -0.14200553, -0.4025244 , -0.21287072],\n",
       "      dtype=float32)"
      ]
     },
     "execution_count": 13,
     "metadata": {},
     "output_type": "execute_result"
    }
   ],
   "source": [
    "model.wv.get_vector(sentences[0][0])"
   ]
  },
  {
   "cell_type": "markdown",
   "id": "125cb4a4",
   "metadata": {},
   "source": [
    "**Let's combine the word vectors for each sentence**"
   ]
  },
  {
   "cell_type": "code",
   "execution_count": 5,
   "id": "9b040b5c",
   "metadata": {},
   "outputs": [],
   "source": [
    "import numpy as np\n",
    "\n",
    "X = []\n",
    "y = []\n",
    "\n",
    "# Define the allowable number of molecules missing\n",
    "missing_threshold = 0.2\n",
    "\n",
    "throwout_num = 0\n",
    "for sentence, hv in zip(sentences, df['value']):\n",
    "    sentence_vec = []\n",
    "    missing = 0\n",
    "    for w in sentence:\n",
    "        try:\n",
    "            vec = model.wv.get_vector(w)\n",
    "            sentence_vec.append(vec)\n",
    "        except:\n",
    "            missing += 1\n",
    "    \n",
    "    if missing/len(sentence) > missing_threshold:\n",
    "        throwout_num += 1\n",
    "        continue\n",
    "    \n",
    "    sv = np.array(sentence_vec).sum(axis=0)\n",
    "    X.append(list(sv))\n",
    "    y.append(hv)"
   ]
  },
  {
   "cell_type": "code",
   "execution_count": 6,
   "id": "30e4e573",
   "metadata": {},
   "outputs": [
    {
     "name": "stdout",
     "output_type": "stream",
     "text": [
      "There are 927 molecules left over.\n"
     ]
    }
   ],
   "source": [
    "print(\"There are %s molecules left over.\" % len(y))"
   ]
  },
  {
   "cell_type": "code",
   "execution_count": 7,
   "id": "dff16625",
   "metadata": {},
   "outputs": [],
   "source": [
    "X_train, X_test, y_train, y_test = train_test_split(X, y, test_size=0.1)"
   ]
  },
  {
   "cell_type": "code",
   "execution_count": 8,
   "id": "f8446893",
   "metadata": {},
   "outputs": [],
   "source": [
    "y_test = np.log10(y_test)\n",
    "y_train = np.log10(y_train)"
   ]
  },
  {
   "cell_type": "markdown",
   "id": "1d512e7a",
   "metadata": {},
   "source": [
    "# Let's try K Nearest Neighbors Regressor"
   ]
  },
  {
   "cell_type": "code",
   "execution_count": 9,
   "id": "58e168fe",
   "metadata": {},
   "outputs": [],
   "source": [
    "from sklearn.neighbors import KNeighborsRegressor\n",
    "from sklearn.metrics import mean_squared_error\n",
    "from sklearn.linear_model import Lasso\n",
    "from sklearn.ensemble import RandomForestRegressor"
   ]
  },
  {
   "cell_type": "code",
   "execution_count": 11,
   "id": "d0f61942",
   "metadata": {},
   "outputs": [
    {
     "name": "stdout",
     "output_type": "stream",
     "text": [
      "2.4919475320753723\n"
     ]
    }
   ],
   "source": [
    "clf = KNeighborsRegressor(n_neighbors=8)\n",
    "\n",
    "clf.fit(X_train, y_train)\n",
    "\n",
    "mse = mean_squared_error(y_test, clf.predict(X_test))\n",
    "print(mse)\n",
    "preds = clf.predict(X_test)"
   ]
  },
  {
   "cell_type": "code",
   "execution_count": 14,
   "id": "525578c4",
   "metadata": {},
   "outputs": [
    {
     "data": {
      "text/plain": [
       "Text(0.5, 0, 'Predicted')"
      ]
     },
     "execution_count": 14,
     "metadata": {},
     "output_type": "execute_result"
    },
    {
     "data": {
      "image/png": "[encoded data removed]",
      "text/plain": [
       "<Figure size 432x288 with 1 Axes>"
      ]
     },
     "metadata": {
      "needs_background": "light"
     },
     "output_type": "display_data"
    }
   ],
   "source": [
    "plt.scatter(preds, y_test)\n",
    "perfect = np.linspace(-3, 3, 100)\n",
    "plt.plot(perfect, perfect, '--', color=\"#cc2727\", linewidth=2)\n",
    "plt.xlabel(\"Predicted\")"
   ]
  },
  {
   "cell_type": "code",
   "execution_count": 31,
   "id": "97d65262",
   "metadata": {},
   "outputs": [
    {
     "data": {
      "text/plain": [
       "1.314787828221836"
      ]
     },
     "execution_count": 31,
     "metadata": {},
     "output_type": "execute_result"
    }
   ],
   "source": [
    "clf = Lasso(alpha=.06, max_iter=2000)\n",
    "\n",
    "clf.fit(X_train, y_train)\n",
    "\n",
    "mean_squared_error(y_test, clf.predict(X_test))"
   ]
  },
  {
   "cell_type": "code",
   "execution_count": 32,
   "id": "6fea2d9c",
   "metadata": {},
   "outputs": [],
   "source": [
    "preds = clf.predict(X_test)"
   ]
  },
  {
   "cell_type": "code",
   "execution_count": 33,
   "id": "43b2fcc0",
   "metadata": {},
   "outputs": [
    {
     "data": {
      "text/plain": [
       "Text(0.5, 0, 'Predicted')"
      ]
     },
     "execution_count": 33,
     "metadata": {},
     "output_type": "execute_result"
    },
    {
     "data": {
      "image/png": "[encoded data removed]",
      "text/plain": [
       "<Figure size 432x288 with 1 Axes>"
      ]
     },
     "metadata": {
      "needs_background": "light"
     },
     "output_type": "display_data"
    }
   ],
   "source": [
    "plt.scatter(preds, y_test)\n",
    "perfect = np.linspace(-3, 3, 100)\n",
    "plt.plot(perfect, perfect, '--', color=\"#cc2727\", linewidth=2)\n",
    "plt.xlabel(\"Predicted\")"
   ]
  },
  {
   "cell_type": "code",
   "execution_count": 17,
   "id": "616d925c",
   "metadata": {},
   "outputs": [
    {
     "data": {
      "text/plain": [
       "2.347924440031377"
      ]
     },
     "execution_count": 17,
     "metadata": {},
     "output_type": "execute_result"
    }
   ],
   "source": [
    "clf = RandomForestRegressor(n_estimators=500, max_depth=5)\n",
    "\n",
    "clf.fit(X_train, y_train)\n",
    "\n",
    "mean_squared_error(y_test, clf.predict(X_test))"
   ]
  },
  {
   "cell_type": "markdown",
   "id": "e040a4e7",
   "metadata": {},
   "source": [
    "Well darn...performance is not looking as good as I would hope. If I were to guess, we have too many components...let's see if we can reduce dimensionality using PCA."
   ]
  },
  {
   "cell_type": "code",
   "execution_count": 18,
   "id": "32f552e2",
   "metadata": {},
   "outputs": [],
   "source": [
    "from sklearn.decomposition import PCA"
   ]
  },
  {
   "cell_type": "code",
   "execution_count": 19,
   "id": "7388e472",
   "metadata": {},
   "outputs": [
    {
     "data": {
      "text/plain": [
       "PCA(n_components=300)"
      ]
     },
     "execution_count": 19,
     "metadata": {},
     "output_type": "execute_result"
    }
   ],
   "source": [
    "pca = PCA(n_components=300)\n",
    "\n",
    "pca.fit(X_train)"
   ]
  },
  {
   "cell_type": "code",
   "execution_count": 20,
   "id": "ccfdd1b6",
   "metadata": {},
   "outputs": [
    {
     "data": {
      "text/plain": [
       "Text(0.5, 1.0, 'Principal Components')"
      ]
     },
     "execution_count": 20,
     "metadata": {},
     "output_type": "execute_result"
    },
    {
     "data": {
      "image/png": "[encoded data removed]",
      "text/plain": [
       "<Figure size 432x288 with 1 Axes>"
      ]
     },
     "metadata": {
      "needs_background": "light"
     },
     "output_type": "display_data"
    }
   ],
   "source": [
    "plt.bar(range(0,300), pca.explained_variance_ratio_)\n",
    "plt.title(\"Principal Components\")"
   ]
  },
  {
   "cell_type": "code",
   "execution_count": 21,
   "id": "552b025d",
   "metadata": {},
   "outputs": [
    {
     "data": {
      "image/png": "[encoded data removed]",
      "text/plain": [
       "<Figure size 432x288 with 1 Axes>"
      ]
     },
     "metadata": {
      "needs_background": "light"
     },
     "output_type": "display_data"
    }
   ],
   "source": [
    "plt.bar(range(0, 10), pca.explained_variance_ratio_[0:10])\n",
    "plt.show()"
   ]
  },
  {
   "cell_type": "markdown",
   "id": "191cac9e",
   "metadata": {},
   "source": [
    "So, if we just look at the top 5 principal components, we can drastically reduce the dimensionality of this problem...and likely boost performance, too."
   ]
  },
  {
   "cell_type": "code",
   "execution_count": 96,
   "id": "3bd3c747",
   "metadata": {},
   "outputs": [
    {
     "data": {
      "text/plain": [
       "2.3261987561018396"
      ]
     },
     "execution_count": 96,
     "metadata": {},
     "output_type": "execute_result"
    }
   ],
   "source": [
    "clf = RandomForestRegressor(n_estimators=500, max_depth=10)\n",
    "pca = PCA(n_components=5)\n",
    "x_train_pc = pca.fit_transform(X_train)\n",
    "x_test_pc = pca.transform(X_test)\n",
    "\n",
    "clf.fit(x_train_pc, y_train)\n",
    "\n",
    "mean_squared_error(y_test, clf.predict(x_test_pc))"
   ]
  },
  {
   "cell_type": "code",
   "execution_count": 111,
   "id": "0b49f98c",
   "metadata": {},
   "outputs": [
    {
     "name": "stdout",
     "output_type": "stream",
     "text": [
      "2.237125267064516\n"
     ]
    }
   ],
   "source": [
    "clf = KNeighborsRegressor(n_neighbors=15)\n",
    "\n",
    "clf.fit(x_train_pc, y_train)\n",
    "\n",
    "mse = mean_squared_error(y_test, clf.predict(x_test_pc))\n",
    "print(mse)\n",
    "preds = clf.predict(x_test_pc)"
   ]
  },
  {
   "cell_type": "code",
   "execution_count": 27,
   "id": "9962f19c",
   "metadata": {},
   "outputs": [
    {
     "data": {
      "text/plain": [
       "3.6438829218970765"
      ]
     },
     "execution_count": 27,
     "metadata": {},
     "output_type": "execute_result"
    }
   ],
   "source": [
    "clf = Lasso(alpha=.0001, max_iter=2000)\n",
    "\n",
    "pca = PCA(n_components=5)\n",
    "x_train_pc = pca.fit_transform(X_train)\n",
    "x_test_pc = pca.transform(X_test)\n",
    "\n",
    "clf.fit(x_train_pc, y_train)\n",
    "\n",
    "mean_squared_error(y_test, clf.predict(x_test_pc))"
   ]
  },
  {
   "cell_type": "markdown",
   "id": "d77270e8",
   "metadata": {},
   "source": [
    "Well darn...looks like we still can't tell the difference using 5 components. Let's extend to 10 components."
   ]
  },
  {
   "cell_type": "code",
   "execution_count": 28,
   "id": "68be9590",
   "metadata": {},
   "outputs": [],
   "source": [
    "pca = PCA(n_components=200)\n",
    "x_train_pc = pca.fit_transform(X_train)\n",
    "x_test_pc = pca.transform(X_test)"
   ]
  },
  {
   "cell_type": "code",
   "execution_count": 29,
   "id": "04aa791e",
   "metadata": {},
   "outputs": [
    {
     "name": "stdout",
     "output_type": "stream",
     "text": [
      "2.5344281035662735\n"
     ]
    }
   ],
   "source": [
    "clf = KNeighborsRegressor(n_neighbors=10)\n",
    "\n",
    "clf.fit(x_train_pc, y_train)\n",
    "\n",
    "mse = mean_squared_error(y_test, clf.predict(x_test_pc))\n",
    "print(mse)\n",
    "preds = clf.predict(x_test_pc)"
   ]
  },
  {
   "cell_type": "markdown",
   "id": "f1c63ae7",
   "metadata": {},
   "source": [
    "Well, it looks like this isn't working any better. If I were to guess, the components"
   ]
  },
  {
   "cell_type": "code",
   "execution_count": 30,
   "id": "0f5913c6",
   "metadata": {},
   "outputs": [
    {
     "data": {
      "image/png": "[encoded data removed]",
      "text/plain": [
       "<Figure size 432x288 with 1 Axes>"
      ]
     },
     "metadata": {
      "needs_background": "light"
     },
     "output_type": "display_data"
    }
   ],
   "source": [
    "plt.scatter(preds, y_test)\n",
    "perfect = np.linspace(-3, 3, 100)\n",
    "plt.plot(perfect, perfect, '--', color='red')\n",
    "plt.show()"
   ]
  },
  {
   "cell_type": "markdown",
   "id": "55b5e6c8",
   "metadata": {},
   "source": [
    "Where to go next?\n",
    "* Seems like my method of combining structures isn't necessarily correct.\n",
    "* Need to figure out this radius thing to see if I'm using words correctly.\n",
    "\n",
    "Once I answer the questions above, I'm going to try to see if I can use count vectors to get a model out.\n",
    "\n",
    "Lastly, I'll look into graph neural networks as a potential option, although I doubt I have enough data to truly learn a good model..."
   ]
  }
 ],
 "metadata": {
  "kernelspec": {
   "display_name": "Python 3 (ipykernel)",
   "language": "python",
   "name": "python3"
  },
  "language_info": {
   "codemirror_mode": {
    "name": "ipython",
    "version": 3
   },
   "file_extension": ".py",
   "mimetype": "text/x-python",
   "name": "python",
   "nbconvert_exporter": "python",
   "pygments_lexer": "ipython3",
   "version": "3.9.12"
  }
 },
 "nbformat": 4,
 "nbformat_minor": 5
}
