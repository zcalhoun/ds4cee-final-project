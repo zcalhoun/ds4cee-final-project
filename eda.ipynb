{
 "cells": [
  {
   "cell_type": "markdown",
   "id": "6a04a7c9-6204-4601-83c3-256075300e1c",
   "metadata": {},
   "source": [
    "## Data Clean Up and Exploratory Data Analysis\n",
    "\n",
    "The following query was used to pull the data into a CSV for easier analysis.\n",
    "```{SQL}\n",
    "SELECT *\n",
    "FROM henry\n",
    "LEFT JOIN species ON henry.species_id=species.id;\n",
    "```\n",
    "\n",
    "I then had to perform some VIM magic to clean up the text file."
   ]
  },
  {
   "cell_type": "code",
   "execution_count": 1,
   "id": "ee28cdaf-5ec4-4d79-baef-988b3302c3d2",
   "metadata": {},
   "outputs": [],
   "source": [
    "# Import pandas\n",
    "import pandas as pd\n",
    "\n",
    "# For getting chemical information\n",
    "import pubchempy as pcp\n",
    "\n",
    "# Read in the sanitized CSV file.\n",
    "df = pd.read_csv('./data/henrys-law.csv')"
   ]
  },
  {
   "cell_type": "code",
   "execution_count": 6,
   "id": "2e18ef5f-68d9-442c-b6c4-50afb38bbd70",
   "metadata": {},
   "outputs": [
    {
     "data": {
      "text/plain": [
       "4632"
      ]
     },
     "execution_count": 6,
     "metadata": {},
     "output_type": "execute_result"
    }
   ],
   "source": [
    "len(set(df['species_id']))"
   ]
  },
  {
   "cell_type": "code",
   "execution_count": 2,
   "id": "d7557a29-fb15-422c-becd-9dbddd1f0a5a",
   "metadata": {},
   "outputs": [
    {
     "data": {
      "text/html": [
       "<div>\n",
       "<style scoped>\n",
       "    .dataframe tbody tr th:only-of-type {\n",
       "        vertical-align: middle;\n",
       "    }\n",
       "\n",
       "    .dataframe tbody tr th {\n",
       "        vertical-align: top;\n",
       "    }\n",
       "\n",
       "    .dataframe thead th {\n",
       "        text-align: right;\n",
       "    }\n",
       "</style>\n",
       "<table border=\"1\" class=\"dataframe\">\n",
       "  <thead>\n",
       "    <tr style=\"text-align: right;\">\n",
       "      <th></th>\n",
       "      <th>id</th>\n",
       "      <th>hominus</th>\n",
       "      <th>mindhr</th>\n",
       "      <th>htype</th>\n",
       "      <th>species_id</th>\n",
       "      <th>literature_id</th>\n",
       "      <th>id.1</th>\n",
       "      <th>iupac</th>\n",
       "      <th>formula</th>\n",
       "      <th>trivial</th>\n",
       "      <th>casrn</th>\n",
       "      <th>inchikey</th>\n",
       "      <th>subcat_id</th>\n",
       "    </tr>\n",
       "  </thead>\n",
       "  <tbody>\n",
       "    <tr>\n",
       "      <th>0</th>\n",
       "      <td>1</td>\n",
       "      <td>1.2*10**-5</td>\n",
       "      <td>1700.0</td>\n",
       "      <td>L</td>\n",
       "      <td>1</td>\n",
       "      <td>729.0</td>\n",
       "      <td>1</td>\n",
       "      <td>oxygen</td>\n",
       "      <td>O&lt;sub&gt;2&lt;/sub&gt;</td>\n",
       "      <td>NaN</td>\n",
       "      <td>7782-44-7</td>\n",
       "      <td>MYMOFIZGZYHOMD-UHFFFAOYSA-N</td>\n",
       "      <td>1</td>\n",
       "    </tr>\n",
       "    <tr>\n",
       "      <th>1</th>\n",
       "      <td>2</td>\n",
       "      <td>1.3*10**-5</td>\n",
       "      <td>1500.0</td>\n",
       "      <td>L</td>\n",
       "      <td>1</td>\n",
       "      <td>603.0</td>\n",
       "      <td>1</td>\n",
       "      <td>oxygen</td>\n",
       "      <td>O&lt;sub&gt;2&lt;/sub&gt;</td>\n",
       "      <td>NaN</td>\n",
       "      <td>7782-44-7</td>\n",
       "      <td>MYMOFIZGZYHOMD-UHFFFAOYSA-N</td>\n",
       "      <td>1</td>\n",
       "    </tr>\n",
       "    <tr>\n",
       "      <th>2</th>\n",
       "      <td>3</td>\n",
       "      <td>1.3*10**-5</td>\n",
       "      <td>1500.0</td>\n",
       "      <td>L</td>\n",
       "      <td>1</td>\n",
       "      <td>602.0</td>\n",
       "      <td>1</td>\n",
       "      <td>oxygen</td>\n",
       "      <td>O&lt;sub&gt;2&lt;/sub&gt;</td>\n",
       "      <td>NaN</td>\n",
       "      <td>7782-44-7</td>\n",
       "      <td>MYMOFIZGZYHOMD-UHFFFAOYSA-N</td>\n",
       "      <td>1</td>\n",
       "    </tr>\n",
       "    <tr>\n",
       "      <th>3</th>\n",
       "      <td>4</td>\n",
       "      <td>1.3*10**-5</td>\n",
       "      <td>1400.0</td>\n",
       "      <td>L</td>\n",
       "      <td>1</td>\n",
       "      <td>239.0</td>\n",
       "      <td>1</td>\n",
       "      <td>oxygen</td>\n",
       "      <td>O&lt;sub&gt;2&lt;/sub&gt;</td>\n",
       "      <td>NaN</td>\n",
       "      <td>7782-44-7</td>\n",
       "      <td>MYMOFIZGZYHOMD-UHFFFAOYSA-N</td>\n",
       "      <td>1</td>\n",
       "    </tr>\n",
       "    <tr>\n",
       "      <th>4</th>\n",
       "      <td>5</td>\n",
       "      <td>1.3*10**-5</td>\n",
       "      <td>1500.0</td>\n",
       "      <td>L</td>\n",
       "      <td>1</td>\n",
       "      <td>57.0</td>\n",
       "      <td>1</td>\n",
       "      <td>oxygen</td>\n",
       "      <td>O&lt;sub&gt;2&lt;/sub&gt;</td>\n",
       "      <td>NaN</td>\n",
       "      <td>7782-44-7</td>\n",
       "      <td>MYMOFIZGZYHOMD-UHFFFAOYSA-N</td>\n",
       "      <td>1</td>\n",
       "    </tr>\n",
       "  </tbody>\n",
       "</table>\n",
       "</div>"
      ],
      "text/plain": [
       "   id     hominus  mindhr htype  species_id  literature_id  id.1   iupac  \\\n",
       "0   1  1.2*10**-5  1700.0     L           1          729.0     1  oxygen   \n",
       "1   2  1.3*10**-5  1500.0     L           1          603.0     1  oxygen   \n",
       "2   3  1.3*10**-5  1500.0     L           1          602.0     1  oxygen   \n",
       "3   4  1.3*10**-5  1400.0     L           1          239.0     1  oxygen   \n",
       "4   5  1.3*10**-5  1500.0     L           1           57.0     1  oxygen   \n",
       "\n",
       "         formula trivial      casrn                     inchikey  subcat_id  \n",
       "0  O<sub>2</sub>     NaN  7782-44-7  MYMOFIZGZYHOMD-UHFFFAOYSA-N          1  \n",
       "1  O<sub>2</sub>     NaN  7782-44-7  MYMOFIZGZYHOMD-UHFFFAOYSA-N          1  \n",
       "2  O<sub>2</sub>     NaN  7782-44-7  MYMOFIZGZYHOMD-UHFFFAOYSA-N          1  \n",
       "3  O<sub>2</sub>     NaN  7782-44-7  MYMOFIZGZYHOMD-UHFFFAOYSA-N          1  \n",
       "4  O<sub>2</sub>     NaN  7782-44-7  MYMOFIZGZYHOMD-UHFFFAOYSA-N          1  "
      ]
     },
     "execution_count": 2,
     "metadata": {},
     "output_type": "execute_result"
    }
   ],
   "source": [
    "df.head()"
   ]
  },
  {
   "cell_type": "markdown",
   "id": "1a0ef4da-7ebc-461d-9a57-8c6ff54b92da",
   "metadata": {},
   "source": [
    "## Questions on the above dataset\n",
    "* How should I interpret the mindhr value? I believe this is the value used to measure roughly how the Henry's law constant varies with temperature.\n",
    "* How do measured values compare to the non-measured values?\n",
    "* What is the distribution of the measured values (probably want to perform a log transform).\n",
    "\n",
    "\n",
    "**Terminology**\n",
    "\n",
    "'M' - Measured value in an experiment.\n",
    "\n",
    "'E' - Estimated value.\n",
    "\n",
    "'T' - Thermodynamical calculation.\n",
    "\n",
    "'L' - Cited paper is a literature review.\n",
    "\n",
    "'V' - vapor pressure of the pure substance was used to predict.\n",
    "\n",
    "'R' - recalculation of previously published material.\n",
    "\n",
    "Based on the notes, it does appear that the given constant is at standard conditions.\n",
    "\n",
    "Henry's law constant is given in mol/($\\text{m}^3$Pa)."
   ]
  },
  {
   "cell_type": "code",
   "execution_count": 3,
   "id": "8ef49e3c-c99e-463e-a3ea-fc489c390664",
   "metadata": {},
   "outputs": [],
   "source": [
    "# Drop rows with a missing Henry's law\n",
    "df.drop(df[df['hominus'].isna()].index, inplace=True)\n",
    "\n",
    "# Evaluate the number for use in numerical analysis.\n",
    "df['value'] = [eval(v) for v in df['hominus']]"
   ]
  },
  {
   "cell_type": "code",
   "execution_count": 4,
   "id": "a1a21163-b63b-4c89-879b-9f22751b42ff",
   "metadata": {},
   "outputs": [],
   "source": [
    "measured = df[df['htype'] == 'M']"
   ]
  },
  {
   "cell_type": "code",
   "execution_count": 72,
   "id": "87d1851d-9c0d-4a46-9f61-b63040650e63",
   "metadata": {},
   "outputs": [
    {
     "data": {
      "text/html": [
       "<div>\n",
       "<style scoped>\n",
       "    .dataframe tbody tr th:only-of-type {\n",
       "        vertical-align: middle;\n",
       "    }\n",
       "\n",
       "    .dataframe tbody tr th {\n",
       "        vertical-align: top;\n",
       "    }\n",
       "\n",
       "    .dataframe thead th {\n",
       "        text-align: right;\n",
       "    }\n",
       "</style>\n",
       "<table border=\"1\" class=\"dataframe\">\n",
       "  <thead>\n",
       "    <tr style=\"text-align: right;\">\n",
       "      <th></th>\n",
       "      <th>id</th>\n",
       "      <th>mindhr</th>\n",
       "      <th>literature_id</th>\n",
       "      <th>id.1</th>\n",
       "      <th>subcat_id</th>\n",
       "      <th>value</th>\n",
       "    </tr>\n",
       "    <tr>\n",
       "      <th>species_id</th>\n",
       "      <th></th>\n",
       "      <th></th>\n",
       "      <th></th>\n",
       "      <th></th>\n",
       "      <th></th>\n",
       "      <th></th>\n",
       "    </tr>\n",
       "  </thead>\n",
       "  <tbody>\n",
       "    <tr>\n",
       "      <th>1</th>\n",
       "      <td>8.50</td>\n",
       "      <td>1450.0</td>\n",
       "      <td>377.250000</td>\n",
       "      <td>1.0</td>\n",
       "      <td>1.0</td>\n",
       "      <td>0.000013</td>\n",
       "    </tr>\n",
       "    <tr>\n",
       "      <th>2</th>\n",
       "      <td>20.75</td>\n",
       "      <td>2000.0</td>\n",
       "      <td>359.250000</td>\n",
       "      <td>2.0</td>\n",
       "      <td>1.0</td>\n",
       "      <td>0.000118</td>\n",
       "    </tr>\n",
       "    <tr>\n",
       "      <th>4</th>\n",
       "      <td>33.00</td>\n",
       "      <td>500.0</td>\n",
       "      <td>746.000000</td>\n",
       "      <td>4.0</td>\n",
       "      <td>2.0</td>\n",
       "      <td>0.000008</td>\n",
       "    </tr>\n",
       "    <tr>\n",
       "      <th>8</th>\n",
       "      <td>64.00</td>\n",
       "      <td>7020.0</td>\n",
       "      <td>540.666667</td>\n",
       "      <td>8.0</td>\n",
       "      <td>2.0</td>\n",
       "      <td>971.666667</td>\n",
       "    </tr>\n",
       "    <tr>\n",
       "      <th>9</th>\n",
       "      <td>81.50</td>\n",
       "      <td>1300.0</td>\n",
       "      <td>658.500000</td>\n",
       "      <td>9.0</td>\n",
       "      <td>3.0</td>\n",
       "      <td>0.000007</td>\n",
       "    </tr>\n",
       "    <tr>\n",
       "      <th>...</th>\n",
       "      <td>...</td>\n",
       "      <td>...</td>\n",
       "      <td>...</td>\n",
       "      <td>...</td>\n",
       "      <td>...</td>\n",
       "      <td>...</td>\n",
       "    </tr>\n",
       "    <tr>\n",
       "      <th>4599</th>\n",
       "      <td>17296.00</td>\n",
       "      <td>3800.0</td>\n",
       "      <td>8.000000</td>\n",
       "      <td>4599.0</td>\n",
       "      <td>59.0</td>\n",
       "      <td>0.000009</td>\n",
       "    </tr>\n",
       "    <tr>\n",
       "      <th>4605</th>\n",
       "      <td>17307.00</td>\n",
       "      <td>2700.0</td>\n",
       "      <td>687.000000</td>\n",
       "      <td>4605.0</td>\n",
       "      <td>60.0</td>\n",
       "      <td>0.001300</td>\n",
       "    </tr>\n",
       "    <tr>\n",
       "      <th>4611</th>\n",
       "      <td>17319.00</td>\n",
       "      <td>7700.0</td>\n",
       "      <td>353.000000</td>\n",
       "      <td>4611.0</td>\n",
       "      <td>60.0</td>\n",
       "      <td>980.000000</td>\n",
       "    </tr>\n",
       "    <tr>\n",
       "      <th>4614</th>\n",
       "      <td>17323.50</td>\n",
       "      <td>1800.0</td>\n",
       "      <td>519.500000</td>\n",
       "      <td>4614.0</td>\n",
       "      <td>60.0</td>\n",
       "      <td>18.500000</td>\n",
       "    </tr>\n",
       "    <tr>\n",
       "      <th>4632</th>\n",
       "      <td>17349.00</td>\n",
       "      <td>6400.0</td>\n",
       "      <td>234.000000</td>\n",
       "      <td>4632.0</td>\n",
       "      <td>61.0</td>\n",
       "      <td>0.000013</td>\n",
       "    </tr>\n",
       "  </tbody>\n",
       "</table>\n",
       "<p>1025 rows × 6 columns</p>\n",
       "</div>"
      ],
      "text/plain": [
       "                  id  mindhr  literature_id    id.1  subcat_id       value\n",
       "species_id                                                                \n",
       "1               8.50  1450.0     377.250000     1.0        1.0    0.000013\n",
       "2              20.75  2000.0     359.250000     2.0        1.0    0.000118\n",
       "4              33.00   500.0     746.000000     4.0        2.0    0.000008\n",
       "8              64.00  7020.0     540.666667     8.0        2.0  971.666667\n",
       "9              81.50  1300.0     658.500000     9.0        3.0    0.000007\n",
       "...              ...     ...            ...     ...        ...         ...\n",
       "4599        17296.00  3800.0       8.000000  4599.0       59.0    0.000009\n",
       "4605        17307.00  2700.0     687.000000  4605.0       60.0    0.001300\n",
       "4611        17319.00  7700.0     353.000000  4611.0       60.0  980.000000\n",
       "4614        17323.50  1800.0     519.500000  4614.0       60.0   18.500000\n",
       "4632        17349.00  6400.0     234.000000  4632.0       61.0    0.000013\n",
       "\n",
       "[1025 rows x 6 columns]"
      ]
     },
     "execution_count": 72,
     "metadata": {},
     "output_type": "execute_result"
    }
   ],
   "source": [
    "measured.groupby(by='species_id').mean()"
   ]
  },
  {
   "cell_type": "code",
   "execution_count": 6,
   "id": "3c666b96-7f4e-44b3-8cd3-eff259fb0bc6",
   "metadata": {},
   "outputs": [
    {
     "data": {
      "image/png": "[encoded data removed]",
      "text/plain": [
       "<Figure size 432x288 with 1 Axes>"
      ]
     },
     "metadata": {
      "needs_background": "light"
     },
     "output_type": "display_data"
    }
   ],
   "source": [
    "import numpy as np\n",
    "import matplotlib.pyplot as plt\n",
    "\n",
    "log_vals = np.log10(pd.pivot_table(measured, values='value', index='id')['value'])\n",
    "\n",
    "plt.hist(log_vals)\n",
    "plt.xlabel(\"$\\log(H)$\")\n",
    "plt.ylabel(\"Count\")\n",
    "plt.show()"
   ]
  },
  {
   "cell_type": "markdown",
   "id": "8ea29e8b-3950-43fc-836f-ba15b63949e9",
   "metadata": {},
   "source": [
    "So we have a log normal distribution of values."
   ]
  },
  {
   "cell_type": "code",
   "execution_count": 7,
   "id": "5f7bc9f6-c009-4cac-82a3-ece0de7b9a31",
   "metadata": {},
   "outputs": [],
   "source": [
    "# id.1 references the chemical species id.\n",
    "types_of_vals = np.log10(pd.pivot_table(df, values='value', index='id.1', columns='htype'))"
   ]
  },
  {
   "cell_type": "markdown",
   "id": "7355a120-3dd1-49a1-a8b3-4a8f3ba6876e",
   "metadata": {},
   "source": [
    "## How well does the dataset provide predictions?\n",
    "We want to see if the recalculations are useful ('R'), whether the Thermodynamical calculations are useful ('T'), and whether the estimated values are useful ('E').\n",
    "\n",
    "These should be compared to the measured values."
   ]
  },
  {
   "cell_type": "code",
   "execution_count": 66,
   "id": "b8cb4c5a-6f00-4bd9-b91b-0e060827c126",
   "metadata": {},
   "outputs": [],
   "source": [
    "from sklearn.metrics import mean_squared_error"
   ]
  },
  {
   "cell_type": "code",
   "execution_count": 74,
   "id": "ff63b0a0-1149-45e4-8084-11fe3256751d",
   "metadata": {},
   "outputs": [
    {
     "name": "stdout",
     "output_type": "stream",
     "text": [
      "Method R\n",
      "# of data points:  49\n",
      "MSE:  0.22719714372738573\n",
      "Method T\n",
      "# of data points:  84\n",
      "MSE:  0.8350590095768446\n",
      "Method E\n",
      "# of data points:  8\n",
      "MSE:  1.1888546837215463\n"
     ]
    }
   ],
   "source": [
    "methods = ['R', 'T', 'E']\n",
    "\n",
    "for m in methods:\n",
    "    method_df = types_of_vals[['M', m]].dropna()\n",
    "    mse = mean_squared_error(method_df['M'], method_df[m])\n",
    "    \n",
    "    print(\"Method %s\" % m)\n",
    "    print(\"# of data points: \", len(method_df))\n",
    "    print(\"MSE: \", mse)"
   ]
  },
  {
   "cell_type": "markdown",
   "id": "29deaaac-0d0c-4077-95b3-effab0c10d38",
   "metadata": {},
   "source": [
    "So clearly, there isn't a ton of overlap, but when there is, the extrapolations from other temperatures are the most helpful.\n",
    "\n",
    "NOTE: These mean squared errors use the log value of Henry's Law...so these seemingly small errors means 1 $\\approx$ a factor of 10."
   ]
  },
  {
   "cell_type": "markdown",
   "id": "b00697c6-e29b-49c5-872a-0a46f6b75a57",
   "metadata": {},
   "source": [
    "# Getting chemical properties\n",
    "There are several chemical properties that will make getting results easier. The cells below handle getting that data using PubChemPy, a helpful package for pulling data from PubChem."
   ]
  },
  {
   "cell_type": "code",
   "execution_count": 7,
   "id": "772d4f10-8e6d-4f12-8268-0c1a47c64e50",
   "metadata": {},
   "outputs": [],
   "source": [
    "agg_by_htype = (df.drop(columns=['id', 'literature_id','id.1', 'formula'])\n",
    ".groupby(by=['inchikey','species_id', 'iupac','htype']).mean()).reset_index()"
   ]
  },
  {
   "cell_type": "code",
   "execution_count": 8,
   "id": "b9df0d6e-5fa5-420f-b85b-0bb2381864a1",
   "metadata": {},
   "outputs": [],
   "source": [
    "measured_htype = agg_by_htype[agg_by_htype['htype'] == 'M']"
   ]
  },
  {
   "cell_type": "code",
   "execution_count": 10,
   "id": "914c5886-57b0-4e44-b0c6-f1b07937a84d",
   "metadata": {},
   "outputs": [
    {
     "data": {
      "text/plain": [
       "1027"
      ]
     },
     "execution_count": 10,
     "metadata": {},
     "output_type": "execute_result"
    }
   ],
   "source": [
    "len(set(measured_htype['species_id']))"
   ]
  },
  {
   "cell_type": "code",
   "execution_count": 81,
   "id": "dbd83f2b-f0a2-4949-aaec-bdaf8675fcae",
   "metadata": {},
   "outputs": [
    {
     "data": {
      "text/html": [
       "<div>\n",
       "<style scoped>\n",
       "    .dataframe tbody tr th:only-of-type {\n",
       "        vertical-align: middle;\n",
       "    }\n",
       "\n",
       "    .dataframe tbody tr th {\n",
       "        vertical-align: top;\n",
       "    }\n",
       "\n",
       "    .dataframe thead th {\n",
       "        text-align: right;\n",
       "    }\n",
       "</style>\n",
       "<table border=\"1\" class=\"dataframe\">\n",
       "  <thead>\n",
       "    <tr style=\"text-align: right;\">\n",
       "      <th></th>\n",
       "      <th>inchikey</th>\n",
       "      <th>species_id</th>\n",
       "      <th>iupac</th>\n",
       "      <th>htype</th>\n",
       "      <th>mindhr</th>\n",
       "      <th>subcat_id</th>\n",
       "      <th>value</th>\n",
       "    </tr>\n",
       "  </thead>\n",
       "  <tbody>\n",
       "    <tr>\n",
       "      <th>4</th>\n",
       "      <td>AAPLIUHOKVUFCC-UHFFFAOYSA-N</td>\n",
       "      <td>4565</td>\n",
       "      <td>trimethylsilanol</td>\n",
       "      <td>M</td>\n",
       "      <td>NaN</td>\n",
       "      <td>55</td>\n",
       "      <td>0.070000</td>\n",
       "    </tr>\n",
       "    <tr>\n",
       "      <th>8</th>\n",
       "      <td>ABVVEAHYODGCLZ-UHFFFAOYSA-N</td>\n",
       "      <td>1654</td>\n",
       "      <td>1-tridecanamine</td>\n",
       "      <td>M</td>\n",
       "      <td>NaN</td>\n",
       "      <td>30</td>\n",
       "      <td>0.090000</td>\n",
       "    </tr>\n",
       "    <tr>\n",
       "      <th>29</th>\n",
       "      <td>AEMRFAOFKBGASW-UHFFFAOYSA-N</td>\n",
       "      <td>1421</td>\n",
       "      <td>hydroxyethanoic acid</td>\n",
       "      <td>M</td>\n",
       "      <td>4000.0</td>\n",
       "      <td>29</td>\n",
       "      <td>280.000000</td>\n",
       "    </tr>\n",
       "    <tr>\n",
       "      <th>38</th>\n",
       "      <td>AFABGHUZZDYHJO-UHFFFAOYSA-N</td>\n",
       "      <td>87</td>\n",
       "      <td>2-methylpentane</td>\n",
       "      <td>M</td>\n",
       "      <td>960.0</td>\n",
       "      <td>11</td>\n",
       "      <td>0.000013</td>\n",
       "    </tr>\n",
       "    <tr>\n",
       "      <th>57</th>\n",
       "      <td>AFYPFACVUDMOHA-UHFFFAOYSA-N</td>\n",
       "      <td>3670</td>\n",
       "      <td>chlorotrifluoromethane</td>\n",
       "      <td>M</td>\n",
       "      <td>2050.0</td>\n",
       "      <td>46</td>\n",
       "      <td>0.000009</td>\n",
       "    </tr>\n",
       "  </tbody>\n",
       "</table>\n",
       "</div>"
      ],
      "text/plain": [
       "                       inchikey  species_id                   iupac htype  \\\n",
       "4   AAPLIUHOKVUFCC-UHFFFAOYSA-N        4565        trimethylsilanol     M   \n",
       "8   ABVVEAHYODGCLZ-UHFFFAOYSA-N        1654         1-tridecanamine     M   \n",
       "29  AEMRFAOFKBGASW-UHFFFAOYSA-N        1421    hydroxyethanoic acid     M   \n",
       "38  AFABGHUZZDYHJO-UHFFFAOYSA-N          87         2-methylpentane     M   \n",
       "57  AFYPFACVUDMOHA-UHFFFAOYSA-N        3670  chlorotrifluoromethane     M   \n",
       "\n",
       "    mindhr  subcat_id       value  \n",
       "4      NaN         55    0.070000  \n",
       "8      NaN         30    0.090000  \n",
       "29  4000.0         29  280.000000  \n",
       "38   960.0         11    0.000013  \n",
       "57  2050.0         46    0.000009  "
      ]
     },
     "execution_count": 81,
     "metadata": {},
     "output_type": "execute_result"
    }
   ],
   "source": [
    "measured_htype.head()"
   ]
  },
  {
   "cell_type": "code",
   "execution_count": 87,
   "id": "37a81892-c64c-4d4e-9aa9-c64e82cedded",
   "metadata": {},
   "outputs": [],
   "source": [
    "import time\n",
    "# Let's get all of the data about each of the elements\n",
    "\n",
    "mol_weight = []\n",
    "tpsa = [] # Topological Polar Surface Area\n",
    "h_bond_donors = []\n",
    "h_bond_acceptors = []\n",
    "heavy_atom_count = []\n",
    "\n",
    "all_data = []\n",
    "# Columns\n",
    "columns = [\n",
    "     'canonical_smiles',\n",
    "     'complexity', \n",
    "     'molecular_weight',\n",
    "     'tpsa',\n",
    "     'h_bond_acceptor_count',\n",
    "     'h_bond_donor_count',\n",
    "     'covalent_unit_count'\n",
    "    ]\n",
    "\n",
    "# For handling edge cases.\n",
    "not_found = []\n",
    "greater_than_one = []\n",
    "for index, row in measured_htype.iterrows():\n",
    "    inchikey = row['inchikey']\n",
    "    \n",
    "    compound = None\n",
    "    if inchikey == 'inchikey':\n",
    "        pass\n",
    "    else:\n",
    "        compound = pcp.get_compounds(inchikey, 'inchikey')\n",
    "    \n",
    "    # Handle edge cases\n",
    "    if compound is None:\n",
    "        not_found.append(row['iupac'])\n",
    "        continue\n",
    "    \n",
    "    if len(compound) != 1:\n",
    "        greater_than_one.append(compound)\n",
    "        continue\n",
    "        \n",
    "    # Get the properties\n",
    "    df_row = np.array([\n",
    "        row['iupac'],\n",
    "        row['inchikey'],\n",
    "        row['value'],\n",
    "    ])\n",
    "    \n",
    "    pubchem_data = compound[0].to_series()[columns].to_numpy()\n",
    "    # Add the following rows\n",
    "    all_data.append(list(np.append(row, pubchem_data)))\n",
    "    time.sleep(1)"
   ]
  },
  {
   "cell_type": "code",
   "execution_count": 88,
   "id": "6bc0e46f-eefa-4711-90d6-abcfdce1b8a3",
   "metadata": {},
   "outputs": [
    {
     "data": {
      "text/plain": [
       "['pubchem_data.joblib']"
      ]
     },
     "execution_count": 88,
     "metadata": {},
     "output_type": "execute_result"
    }
   ],
   "source": [
    "import joblib\n",
    "joblib.dump(all_data, 'pubchem_data.joblib')"
   ]
  },
  {
   "cell_type": "code",
   "execution_count": 90,
   "id": "3a977e97-c336-4cec-ae1a-21aa755b420e",
   "metadata": {},
   "outputs": [
    {
     "data": {
      "text/plain": [
       "958"
      ]
     },
     "execution_count": 90,
     "metadata": {},
     "output_type": "execute_result"
    }
   ],
   "source": [
    "len(all_data)"
   ]
  },
  {
   "cell_type": "code",
   "execution_count": 91,
   "id": "21e24950-b94b-4f65-8ebd-3f1d335bb914",
   "metadata": {},
   "outputs": [
    {
     "data": {
      "text/plain": [
       "[\"4-(3',5'-dimethyl-3'-heptyl)-phenol(+)\",\n",
       " \"4-(3',5'-dimethyl-3'-heptyl)-phenol(-)\",\n",
       " '3-nitrooxy-1-butanol',\n",
       " '4-nitrooxy-1-butanol',\n",
       " '4-nitrooxy-2-butanol',\n",
       " '4-nitrooxy-1-pentanol',\n",
       " '5-nitrooxy-2-pentanol',\n",
       " '(2R,4S)-2,4-pentanediol dinitrate',\n",
       " '(2R,4R)-2,4-pentanediol dinitrate',\n",
       " '(1R,2S)-1,2-cyclohexanediol dinitrate',\n",
       " '(1R,2R)-1,2-cyclohexanediol dinitrate',\n",
       " '(1R,3S)-1,3-cyclohexanediol dinitrate',\n",
       " '(1R,3R)-1,3-cyclohexanediol dinitrate',\n",
       " '(1R,2R)-1,2-cycloheptanediol dinitrate',\n",
       " 'PFBHA-methanal',\n",
       " 'PFBHA-ethanal',\n",
       " 'PFBHA-propanone',\n",
       " 'PFBHA-butanone',\n",
       " 'PFBHA-2-pentanone',\n",
       " 'PFBHA-hexanal',\n",
       " 'PFBHA-octanal',\n",
       " 'PFBHA-decanal',\n",
       " 'PFBHA-propenal',\n",
       " 'PFBHA-crotonaldehyde',\n",
       " 'PFBHA-benzaldehyde',\n",
       " 'PFBHA-4-methyl-benzaldehyde',\n",
       " 'PFBHA-9-fluorenone',\n",
       " 'PFBHA-ethanedial',\n",
       " 'PFBHA-1-hydroxypropanone',\n",
       " 'PFBHA-3-hydroxy-3-methyl-2-butanone',\n",
       " '1,1,2-trichloroethane-d3',\n",
       " '1,2-dichloropropane-d6',\n",
       " '2-bromo-3,5-dichloro-1-methoxybenzene',\n",
       " '4-bromo-3,5-dichloro-1-methoxybenzene',\n",
       " '5-bromo-2,4-dichloro-1-methoxybenzene',\n",
       " '6-bromo-2,3-dichloro-1-methoxybenzene',\n",
       " '2-bromo-3,4,5-trichloro-1-methoxybenzene',\n",
       " '3-bromo-2,4,6-trichloro-1-methoxybenzene',\n",
       " '6-bromo-2,3,4-trichloro-1-methoxybenzene',\n",
       " '4-bromo-2,3,5,6-tetrachloro-1-methoxybenzene',\n",
       " '2,6-dibromo-4-chloro-1-methoxybenzene',\n",
       " '2,4-dibromo-3,5-dichloro-1-methoxybenzene',\n",
       " '2,4-dibromo-5,6-dichloro-1-methoxybenzene',\n",
       " '2,3-dibromo-5,6-dichloro-1-methoxybenzene',\n",
       " '2,6-dibromo-3,4,5-trichloro-1-methoxybenzene',\n",
       " '2,4,6-tribromo-3-chloro-1-methoxybenzene']"
      ]
     },
     "execution_count": 91,
     "metadata": {},
     "output_type": "execute_result"
    }
   ],
   "source": [
    "not_found"
   ]
  },
  {
   "cell_type": "code",
   "execution_count": 107,
   "id": "85d51a61-bf4a-4487-aca7-572293e7284c",
   "metadata": {},
   "outputs": [
    {
     "data": {
      "text/plain": [
       "'C(C(=O)[O-])[OH2+]'"
      ]
     },
     "execution_count": 107,
     "metadata": {},
     "output_type": "execute_result"
    }
   ],
   "source": [
    "greater_than_one[0][1].to_series()['canonical_smiles']"
   ]
  },
  {
   "cell_type": "code",
   "execution_count": 128,
   "id": "22f59a69-f61e-4c3a-a0ec-6b379723fea2",
   "metadata": {},
   "outputs": [
    {
     "data": {
      "text/plain": [
       "[Compound(757),\n",
       " Compound(3698251),\n",
       " Compound(8253),\n",
       " Compound(409301),\n",
       " Compound(284),\n",
       " Compound(18971002),\n",
       " Compound(6422),\n",
       " Compound(23138861),\n",
       " Compound(996),\n",
       " Compound(20488062),\n",
       " Compound(743),\n",
       " Compound(23322899),\n",
       " Compound(14917),\n",
       " Compound(16211014),\n",
       " Compound(24085),\n",
       " Compound(5284416),\n",
       " Compound(139036534),\n",
       " Compound(784),\n",
       " Compound(22326046),\n",
       " Compound(6511),\n",
       " Compound(101498847),\n",
       " Compound(176),\n",
       " Compound(21980959),\n",
       " Compound(160748163),\n",
       " Compound(402),\n",
       " Compound(18779926),\n",
       " Compound(783),\n",
       " Compound(58838673),\n",
       " Compound(243),\n",
       " Compound(20144841),\n",
       " Compound(6421),\n",
       " Compound(23223116)]"
      ]
     },
     "execution_count": 128,
     "metadata": {},
     "output_type": "execute_result"
    }
   ],
   "source": [
    "compounds_to_check = []\n",
    "for compounds in greater_than_one:\n",
    "    if len(compounds) > 0:\n",
    "        for c in compounds:\n",
    "            compounds_to_check.append(c)\n",
    "\n",
    "compounds_to_check"
   ]
  },
  {
   "cell_type": "code",
   "execution_count": 129,
   "id": "c5c71230-07c2-4c15-a79e-0c6948460f7a",
   "metadata": {},
   "outputs": [],
   "source": [
    "c = compounds_to_check[0]"
   ]
  },
  {
   "cell_type": "code",
   "execution_count": 139,
   "id": "b32c86d8-8462-46a3-911a-04fec8fa4f3b",
   "metadata": {},
   "outputs": [],
   "source": [
    "name = c.to_series(['iupac_name'])['iupac_name']"
   ]
  },
  {
   "cell_type": "code",
   "execution_count": 141,
   "id": "b9499e53-b009-466e-8cbf-cde28b043a1b",
   "metadata": {},
   "outputs": [],
   "source": [
    "row = measured_htype[measured_htype['iupac'] == name]"
   ]
  },
  {
   "cell_type": "code",
   "execution_count": 142,
   "id": "b1e14099-75a5-4dd4-ad73-96fde76a45a8",
   "metadata": {},
   "outputs": [
    {
     "data": {
      "text/plain": [
       "0"
      ]
     },
     "execution_count": 142,
     "metadata": {},
     "output_type": "execute_result"
    }
   ],
   "source": [
    "len(row)"
   ]
  },
  {
   "cell_type": "code",
   "execution_count": 145,
   "id": "2886cea6-79b2-4b4e-9478-b286231c4bb9",
   "metadata": {},
   "outputs": [],
   "source": [
    "# Get values for compounds with more than one result\n",
    "for compound in compounds_to_check:\n",
    "    name = compound.to_series(['iupac_name'])['iupac_name']\n",
    "    row = measured_htype[measured_htype['iupac'] == name]\n",
    "    \n",
    "    if len(row) == 0:\n",
    "        continue\n",
    "        \n",
    "    # Get the properties\n",
    "    df_row = np.array([\n",
    "        row['iupac'],\n",
    "        row['inchikey'],\n",
    "        row['value'],\n",
    "    ])\n",
    "    \n",
    "    pubchem_data = compound.to_series()[columns].to_numpy()\n",
    "    # Add the following rows\n",
    "    all_data.append(list(np.append(row, pubchem_data)))"
   ]
  },
  {
   "cell_type": "code",
   "execution_count": 151,
   "id": "0d933da6-70ec-4713-9933-33406a7983de",
   "metadata": {},
   "outputs": [],
   "source": [
    "new_df = pd.DataFrame(all_data, \n",
    "                     columns = [\n",
    "                         'inchikey', \n",
    "                         'species_id',\n",
    "                         'iupac',\n",
    "                         'htype','mindhr',\n",
    "                         'subcat_id',\n",
    "                         'value',\n",
    "                         'canonical_smiles',\n",
    "                         'complexity',\n",
    "                         'molecular_weight',\n",
    "                         'tpsa',\n",
    "                         'h_bond_acceptor_count',\n",
    "                         'h_bond_donor_count',\n",
    "                         'covalent_unit_count'\n",
    "                     ])"
   ]
  },
  {
   "cell_type": "code",
   "execution_count": 153,
   "id": "936471c4-6997-4682-ba9b-f78a5197c861",
   "metadata": {},
   "outputs": [],
   "source": [
    "new_df.to_csv('./data/clean_henrys.csv')"
   ]
  },
  {
   "cell_type": "markdown",
   "id": "1bb8ccde-2228-4527-869d-88f422185407",
   "metadata": {},
   "source": [
    "# Final results of this effort\n",
    "\n",
    "I created a CSV with the cleaned up data which now has the cannonical SMILES representation of the data, along with a few physical properties that can be applied to try to create a first-pass method for predicting Henry's law."
   ]
  }
 ],
 "metadata": {
  "kernelspec": {
   "display_name": "Python 3",
   "language": "python",
   "name": "python3"
  },
  "language_info": {
   "codemirror_mode": {
    "name": "ipython",
    "version": 3
   },
   "file_extension": ".py",
   "mimetype": "text/x-python",
   "name": "python",
   "nbconvert_exporter": "python",
   "pygments_lexer": "ipython3",
   "version": "3.8.8"
  }
 },
 "nbformat": 4,
 "nbformat_minor": 5
}
