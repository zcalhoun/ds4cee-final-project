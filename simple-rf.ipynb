{
 "cells": [
  {
   "cell_type": "code",
   "execution_count": 1,
   "id": "d6631d09-a641-46d8-84fa-e068c98d453a",
   "metadata": {},
   "outputs": [],
   "source": [
    "import pandas as pd\n",
    "import numpy as np\n",
    "\n",
    "from sklearn.model_selection import train_test_split\n",
    "from sklearn.ensemble import RandomForestRegressor\n",
    "from sklearn.metrics import mean_squared_error\n",
    "\n",
    "import matplotlib.pyplot as plt"
   ]
  },
  {
   "cell_type": "code",
   "execution_count": 2,
   "id": "3788933f-720f-435b-a7c0-ee7ddb033d04",
   "metadata": {},
   "outputs": [],
   "source": [
    "df = pd.read_csv('./data/clean_henrys.csv', index_col=0)"
   ]
  },
  {
   "cell_type": "code",
   "execution_count": 3,
   "id": "f7a1cc05-ad9f-40a3-a159-8e0ad1689843",
   "metadata": {},
   "outputs": [
    {
     "data": {
      "text/html": [
       "<div>\n",
       "<style scoped>\n",
       "    .dataframe tbody tr th:only-of-type {\n",
       "        vertical-align: middle;\n",
       "    }\n",
       "\n",
       "    .dataframe tbody tr th {\n",
       "        vertical-align: top;\n",
       "    }\n",
       "\n",
       "    .dataframe thead th {\n",
       "        text-align: right;\n",
       "    }\n",
       "</style>\n",
       "<table border=\"1\" class=\"dataframe\">\n",
       "  <thead>\n",
       "    <tr style=\"text-align: right;\">\n",
       "      <th></th>\n",
       "      <th>inchikey</th>\n",
       "      <th>species_id</th>\n",
       "      <th>iupac</th>\n",
       "      <th>htype</th>\n",
       "      <th>mindhr</th>\n",
       "      <th>subcat_id</th>\n",
       "      <th>value</th>\n",
       "      <th>canonical_smiles</th>\n",
       "      <th>complexity</th>\n",
       "      <th>molecular_weight</th>\n",
       "      <th>tpsa</th>\n",
       "      <th>h_bond_acceptor_count</th>\n",
       "      <th>h_bond_donor_count</th>\n",
       "      <th>covalent_unit_count</th>\n",
       "    </tr>\n",
       "  </thead>\n",
       "  <tbody>\n",
       "    <tr>\n",
       "      <th>0</th>\n",
       "      <td>AAPLIUHOKVUFCC-UHFFFAOYSA-N</td>\n",
       "      <td>4565</td>\n",
       "      <td>trimethylsilanol</td>\n",
       "      <td>M</td>\n",
       "      <td>NaN</td>\n",
       "      <td>55</td>\n",
       "      <td>0.070000</td>\n",
       "      <td>C[Si](C)(C)O</td>\n",
       "      <td>28.4</td>\n",
       "      <td>90.20</td>\n",
       "      <td>20.2</td>\n",
       "      <td>1</td>\n",
       "      <td>1</td>\n",
       "      <td>1</td>\n",
       "    </tr>\n",
       "    <tr>\n",
       "      <th>1</th>\n",
       "      <td>ABVVEAHYODGCLZ-UHFFFAOYSA-N</td>\n",
       "      <td>1654</td>\n",
       "      <td>1-tridecanamine</td>\n",
       "      <td>M</td>\n",
       "      <td>NaN</td>\n",
       "      <td>30</td>\n",
       "      <td>0.090000</td>\n",
       "      <td>CCCCCCCCCCCCCN</td>\n",
       "      <td>91.2</td>\n",
       "      <td>199.38</td>\n",
       "      <td>26.0</td>\n",
       "      <td>1</td>\n",
       "      <td>1</td>\n",
       "      <td>1</td>\n",
       "    </tr>\n",
       "    <tr>\n",
       "      <th>2</th>\n",
       "      <td>AFABGHUZZDYHJO-UHFFFAOYSA-N</td>\n",
       "      <td>87</td>\n",
       "      <td>2-methylpentane</td>\n",
       "      <td>M</td>\n",
       "      <td>960.0</td>\n",
       "      <td>11</td>\n",
       "      <td>0.000013</td>\n",
       "      <td>CCCC(C)C</td>\n",
       "      <td>21.2</td>\n",
       "      <td>86.18</td>\n",
       "      <td>0.0</td>\n",
       "      <td>0</td>\n",
       "      <td>0</td>\n",
       "      <td>1</td>\n",
       "    </tr>\n",
       "    <tr>\n",
       "      <th>3</th>\n",
       "      <td>AFYPFACVUDMOHA-UHFFFAOYSA-N</td>\n",
       "      <td>3670</td>\n",
       "      <td>chlorotrifluoromethane</td>\n",
       "      <td>M</td>\n",
       "      <td>2050.0</td>\n",
       "      <td>46</td>\n",
       "      <td>0.000009</td>\n",
       "      <td>C(F)(F)(F)Cl</td>\n",
       "      <td>28.4</td>\n",
       "      <td>104.46</td>\n",
       "      <td>0.0</td>\n",
       "      <td>3</td>\n",
       "      <td>0</td>\n",
       "      <td>1</td>\n",
       "    </tr>\n",
       "    <tr>\n",
       "      <th>4</th>\n",
       "      <td>AGDYNDJUZRMYRG-UHFFFAOYSA-N</td>\n",
       "      <td>2220</td>\n",
       "      <td>1-hexyl nitrate</td>\n",
       "      <td>M</td>\n",
       "      <td>6700.0</td>\n",
       "      <td>35</td>\n",
       "      <td>0.007600</td>\n",
       "      <td>CCCCCCO[N+](=O)[O-]</td>\n",
       "      <td>89.5</td>\n",
       "      <td>147.17</td>\n",
       "      <td>55.0</td>\n",
       "      <td>3</td>\n",
       "      <td>0</td>\n",
       "      <td>1</td>\n",
       "    </tr>\n",
       "  </tbody>\n",
       "</table>\n",
       "</div>"
      ],
      "text/plain": [
       "                      inchikey  species_id                   iupac htype  \\\n",
       "0  AAPLIUHOKVUFCC-UHFFFAOYSA-N        4565        trimethylsilanol     M   \n",
       "1  ABVVEAHYODGCLZ-UHFFFAOYSA-N        1654         1-tridecanamine     M   \n",
       "2  AFABGHUZZDYHJO-UHFFFAOYSA-N          87         2-methylpentane     M   \n",
       "3  AFYPFACVUDMOHA-UHFFFAOYSA-N        3670  chlorotrifluoromethane     M   \n",
       "4  AGDYNDJUZRMYRG-UHFFFAOYSA-N        2220         1-hexyl nitrate     M   \n",
       "\n",
       "   mindhr  subcat_id     value     canonical_smiles  complexity  \\\n",
       "0     NaN         55  0.070000         C[Si](C)(C)O        28.4   \n",
       "1     NaN         30  0.090000       CCCCCCCCCCCCCN        91.2   \n",
       "2   960.0         11  0.000013             CCCC(C)C        21.2   \n",
       "3  2050.0         46  0.000009         C(F)(F)(F)Cl        28.4   \n",
       "4  6700.0         35  0.007600  CCCCCCO[N+](=O)[O-]        89.5   \n",
       "\n",
       "   molecular_weight  tpsa  h_bond_acceptor_count  h_bond_donor_count  \\\n",
       "0             90.20  20.2                      1                   1   \n",
       "1            199.38  26.0                      1                   1   \n",
       "2             86.18   0.0                      0                   0   \n",
       "3            104.46   0.0                      3                   0   \n",
       "4            147.17  55.0                      3                   0   \n",
       "\n",
       "   covalent_unit_count  \n",
       "0                    1  \n",
       "1                    1  \n",
       "2                    1  \n",
       "3                    1  \n",
       "4                    1  "
      ]
     },
     "execution_count": 3,
     "metadata": {},
     "output_type": "execute_result"
    }
   ],
   "source": [
    "df.head()"
   ]
  },
  {
   "cell_type": "code",
   "execution_count": 4,
   "id": "76abfb50-cb3c-44a3-87a9-12c8a4134280",
   "metadata": {},
   "outputs": [],
   "source": [
    "# Let's remove the columns we don't need\n",
    "X = df.drop(columns=['inchikey',\n",
    "                     'species_id', \n",
    "                     'iupac', \n",
    "                     'htype',\n",
    "                     'mindhr',\n",
    "                     'canonical_smiles',\n",
    "                     'subcat_id'\n",
    "                    ])\n",
    "\n",
    "# Set up predictive values\n",
    "y = X['value']\n",
    "X = X.drop(columns='value')"
   ]
  },
  {
   "cell_type": "code",
   "execution_count": 5,
   "id": "da33cb3f-93dc-442e-94ed-05a4a6c809e1",
   "metadata": {},
   "outputs": [],
   "source": [
    "y_log = np.log10(y)"
   ]
  },
  {
   "cell_type": "code",
   "execution_count": 14,
   "id": "2d7d98e7-4c8b-4521-982e-eb16a5880f8e",
   "metadata": {},
   "outputs": [],
   "source": [
    "X_train, X_test, y_train, y_test = train_test_split(X, y_log, test_size=0.2)"
   ]
  },
  {
   "cell_type": "markdown",
   "id": "8bff15db-afad-42bc-bdfb-f34f7724617f",
   "metadata": {},
   "source": [
    "# Now that the data is set up, let's throw some basic regression at it."
   ]
  },
  {
   "cell_type": "code",
   "execution_count": 15,
   "id": "43b62097-310c-469a-924e-600ddbcec551",
   "metadata": {},
   "outputs": [
    {
     "data": {
      "text/plain": [
       "2.3250736074260168"
      ]
     },
     "execution_count": 15,
     "metadata": {},
     "output_type": "execute_result"
    }
   ],
   "source": [
    "from sklearn.tree import DecisionTreeRegressor\n",
    "\n",
    "clf = DecisionTreeRegressor()\n",
    "\n",
    "clf.fit(X_train, y_train)\n",
    "\n",
    "mean_squared_error(y_test, clf.predict(X_test))"
   ]
  },
  {
   "cell_type": "markdown",
   "id": "30850af7-6e66-44e4-99d7-a665c92ac6fa",
   "metadata": {},
   "source": [
    "So when looking at MSE, we get a value that is notably worse than the estimations."
   ]
  },
  {
   "cell_type": "code",
   "execution_count": 25,
   "id": "da6d44fc-1d9f-4550-8c7e-3df39b326080",
   "metadata": {},
   "outputs": [],
   "source": [
    "from sklearn import tree"
   ]
  },
  {
   "cell_type": "code",
   "execution_count": 28,
   "id": "42fefa79-23d8-4312-aef2-76bb35246c08",
   "metadata": {},
   "outputs": [
    {
     "data": {
      "image/png": "[encoded data removed]",
      "text/plain": [
       "<Figure size 432x288 with 1 Axes>"
      ]
     },
     "metadata": {
      "needs_background": "light"
     },
     "output_type": "display_data"
    }
   ],
   "source": [
    "tree.plot_tree(clf)\n",
    "plt.show()"
   ]
  },
  {
   "cell_type": "markdown",
   "id": "bddf0133-9bd1-4465-a68f-1910385cdcf1",
   "metadata": {},
   "source": [
    "So this decision tree is very complex. We should see if we can restrict the tree to be more generalizable."
   ]
  },
  {
   "cell_type": "code",
   "execution_count": 16,
   "id": "a0f8a0f7-1469-4dd7-9e11-dc2049a72391",
   "metadata": {},
   "outputs": [
    {
     "data": {
      "text/plain": [
       "1.7653877032961847"
      ]
     },
     "execution_count": 16,
     "metadata": {},
     "output_type": "execute_result"
    }
   ],
   "source": [
    "clf = DecisionTreeRegressor(max_depth=6, min_samples_split=10)\n",
    "clf.fit(X_train, y_train)\n",
    "mean_squared_error(y_test, clf.predict(X_test))"
   ]
  },
  {
   "cell_type": "code",
   "execution_count": 17,
   "id": "7ffa197c-e6a1-4522-a33d-f7a0bbf99694",
   "metadata": {},
   "outputs": [
    {
     "ename": "NameError",
     "evalue": "name 'tree' is not defined",
     "output_type": "error",
     "traceback": [
      "\u001b[0;31m---------------------------------------------------------------------------\u001b[0m",
      "\u001b[0;31mNameError\u001b[0m                                 Traceback (most recent call last)",
      "\u001b[0;32m<ipython-input-17-2f5bb87129c8>\u001b[0m in \u001b[0;36m<module>\u001b[0;34m\u001b[0m\n\u001b[0;32m----> 1\u001b[0;31m \u001b[0mtree\u001b[0m\u001b[0;34m.\u001b[0m\u001b[0mplot_tree\u001b[0m\u001b[0;34m(\u001b[0m\u001b[0mclf\u001b[0m\u001b[0;34m)\u001b[0m\u001b[0;34m\u001b[0m\u001b[0;34m\u001b[0m\u001b[0m\n\u001b[0m\u001b[1;32m      2\u001b[0m \u001b[0mplt\u001b[0m\u001b[0;34m.\u001b[0m\u001b[0mshow\u001b[0m\u001b[0;34m(\u001b[0m\u001b[0;34m)\u001b[0m\u001b[0;34m\u001b[0m\u001b[0;34m\u001b[0m\u001b[0m\n",
      "\u001b[0;31mNameError\u001b[0m: name 'tree' is not defined"
     ]
    }
   ],
   "source": [
    "tree.plot_tree(clf)\n",
    "plt.show()"
   ]
  },
  {
   "cell_type": "markdown",
   "id": "944aece7-51ed-4788-85ca-60ba975b41dc",
   "metadata": {},
   "source": [
    "So, looks like we aren't going to get good performance out of a Decision Tree, as to be expected."
   ]
  },
  {
   "cell_type": "code",
   "execution_count": 18,
   "id": "27b43cef-d22f-43be-bb1f-64bb84c08a2d",
   "metadata": {},
   "outputs": [
    {
     "data": {
      "text/html": [
       "<div>\n",
       "<style scoped>\n",
       "    .dataframe tbody tr th:only-of-type {\n",
       "        vertical-align: middle;\n",
       "    }\n",
       "\n",
       "    .dataframe tbody tr th {\n",
       "        vertical-align: top;\n",
       "    }\n",
       "\n",
       "    .dataframe thead th {\n",
       "        text-align: right;\n",
       "    }\n",
       "</style>\n",
       "<table border=\"1\" class=\"dataframe\">\n",
       "  <thead>\n",
       "    <tr style=\"text-align: right;\">\n",
       "      <th></th>\n",
       "      <th>id</th>\n",
       "      <th>hominus</th>\n",
       "      <th>mindhr</th>\n",
       "      <th>htype</th>\n",
       "      <th>species_id</th>\n",
       "      <th>literature_id</th>\n",
       "      <th>id.1</th>\n",
       "      <th>iupac</th>\n",
       "      <th>formula</th>\n",
       "      <th>trivial</th>\n",
       "      <th>casrn</th>\n",
       "      <th>inchikey</th>\n",
       "      <th>subcat_id</th>\n",
       "    </tr>\n",
       "  </thead>\n",
       "  <tbody>\n",
       "    <tr>\n",
       "      <th>0</th>\n",
       "      <td>1</td>\n",
       "      <td>1.2*10**-5</td>\n",
       "      <td>1700.0</td>\n",
       "      <td>L</td>\n",
       "      <td>1</td>\n",
       "      <td>729.0</td>\n",
       "      <td>1</td>\n",
       "      <td>oxygen</td>\n",
       "      <td>O&lt;sub&gt;2&lt;/sub&gt;</td>\n",
       "      <td>NaN</td>\n",
       "      <td>7782-44-7</td>\n",
       "      <td>MYMOFIZGZYHOMD-UHFFFAOYSA-N</td>\n",
       "      <td>1</td>\n",
       "    </tr>\n",
       "    <tr>\n",
       "      <th>1</th>\n",
       "      <td>2</td>\n",
       "      <td>1.3*10**-5</td>\n",
       "      <td>1500.0</td>\n",
       "      <td>L</td>\n",
       "      <td>1</td>\n",
       "      <td>603.0</td>\n",
       "      <td>1</td>\n",
       "      <td>oxygen</td>\n",
       "      <td>O&lt;sub&gt;2&lt;/sub&gt;</td>\n",
       "      <td>NaN</td>\n",
       "      <td>7782-44-7</td>\n",
       "      <td>MYMOFIZGZYHOMD-UHFFFAOYSA-N</td>\n",
       "      <td>1</td>\n",
       "    </tr>\n",
       "    <tr>\n",
       "      <th>2</th>\n",
       "      <td>3</td>\n",
       "      <td>1.3*10**-5</td>\n",
       "      <td>1500.0</td>\n",
       "      <td>L</td>\n",
       "      <td>1</td>\n",
       "      <td>602.0</td>\n",
       "      <td>1</td>\n",
       "      <td>oxygen</td>\n",
       "      <td>O&lt;sub&gt;2&lt;/sub&gt;</td>\n",
       "      <td>NaN</td>\n",
       "      <td>7782-44-7</td>\n",
       "      <td>MYMOFIZGZYHOMD-UHFFFAOYSA-N</td>\n",
       "      <td>1</td>\n",
       "    </tr>\n",
       "    <tr>\n",
       "      <th>3</th>\n",
       "      <td>4</td>\n",
       "      <td>1.3*10**-5</td>\n",
       "      <td>1400.0</td>\n",
       "      <td>L</td>\n",
       "      <td>1</td>\n",
       "      <td>239.0</td>\n",
       "      <td>1</td>\n",
       "      <td>oxygen</td>\n",
       "      <td>O&lt;sub&gt;2&lt;/sub&gt;</td>\n",
       "      <td>NaN</td>\n",
       "      <td>7782-44-7</td>\n",
       "      <td>MYMOFIZGZYHOMD-UHFFFAOYSA-N</td>\n",
       "      <td>1</td>\n",
       "    </tr>\n",
       "    <tr>\n",
       "      <th>4</th>\n",
       "      <td>5</td>\n",
       "      <td>1.3*10**-5</td>\n",
       "      <td>1500.0</td>\n",
       "      <td>L</td>\n",
       "      <td>1</td>\n",
       "      <td>57.0</td>\n",
       "      <td>1</td>\n",
       "      <td>oxygen</td>\n",
       "      <td>O&lt;sub&gt;2&lt;/sub&gt;</td>\n",
       "      <td>NaN</td>\n",
       "      <td>7782-44-7</td>\n",
       "      <td>MYMOFIZGZYHOMD-UHFFFAOYSA-N</td>\n",
       "      <td>1</td>\n",
       "    </tr>\n",
       "  </tbody>\n",
       "</table>\n",
       "</div>"
      ],
      "text/plain": [
       "   id     hominus  mindhr htype  species_id  literature_id  id.1   iupac  \\\n",
       "0   1  1.2*10**-5  1700.0     L           1          729.0     1  oxygen   \n",
       "1   2  1.3*10**-5  1500.0     L           1          603.0     1  oxygen   \n",
       "2   3  1.3*10**-5  1500.0     L           1          602.0     1  oxygen   \n",
       "3   4  1.3*10**-5  1400.0     L           1          239.0     1  oxygen   \n",
       "4   5  1.3*10**-5  1500.0     L           1           57.0     1  oxygen   \n",
       "\n",
       "         formula trivial      casrn                     inchikey  subcat_id  \n",
       "0  O<sub>2</sub>     NaN  7782-44-7  MYMOFIZGZYHOMD-UHFFFAOYSA-N          1  \n",
       "1  O<sub>2</sub>     NaN  7782-44-7  MYMOFIZGZYHOMD-UHFFFAOYSA-N          1  \n",
       "2  O<sub>2</sub>     NaN  7782-44-7  MYMOFIZGZYHOMD-UHFFFAOYSA-N          1  \n",
       "3  O<sub>2</sub>     NaN  7782-44-7  MYMOFIZGZYHOMD-UHFFFAOYSA-N          1  \n",
       "4  O<sub>2</sub>     NaN  7782-44-7  MYMOFIZGZYHOMD-UHFFFAOYSA-N          1  "
      ]
     },
     "execution_count": 18,
     "metadata": {},
     "output_type": "execute_result"
    }
   ],
   "source": [
    "# Show that the distribution doesn't change\n",
    "df_full = pd.read_csv('./data/henrys-law.csv')\n",
    "\n",
    "df_full.head()"
   ]
  },
  {
   "cell_type": "code",
   "execution_count": 19,
   "id": "6bf687b3-10b6-40b2-bede-8ba2de5b3e93",
   "metadata": {},
   "outputs": [],
   "source": [
    "df_full.drop(df_full[df_full['hominus'].isna()].index, inplace=True)\n",
    "df_full['value'] = [eval(v) for v in df_full['hominus']]\n",
    "types_of_vals = np.log10(pd.pivot_table(df_full, values='value', index='species_id', columns='htype'))"
   ]
  },
  {
   "cell_type": "code",
   "execution_count": 20,
   "id": "fae34ddc-58fa-4910-9516-1e6a00b6c66c",
   "metadata": {},
   "outputs": [],
   "source": [
    "full_values = types_of_vals.reset_index()['M']"
   ]
  },
  {
   "cell_type": "code",
   "execution_count": 49,
   "id": "297780f6-3e22-4653-9bbf-e55f983c3333",
   "metadata": {},
   "outputs": [
    {
     "data": {
      "text/plain": [
       "0      -4.894490\n",
       "1      -3.929962\n",
       "2            NaN\n",
       "3      -5.102373\n",
       "4            NaN\n",
       "          ...   \n",
       "4600         NaN\n",
       "4601         NaN\n",
       "4602         NaN\n",
       "4603         NaN\n",
       "4604   -4.886057\n",
       "Name: M, Length: 4605, dtype: float64"
      ]
     },
     "execution_count": 49,
     "metadata": {},
     "output_type": "execute_result"
    }
   ],
   "source": [
    "full_values"
   ]
  },
  {
   "cell_type": "code",
   "execution_count": 21,
   "id": "46ef5204-14b7-49b5-96e7-f7a1d8d5faf8",
   "metadata": {},
   "outputs": [
    {
     "data": {
      "image/png": "[encoded data removed]",
      "text/plain": [
       "<Figure size 432x288 with 2 Axes>"
      ]
     },
     "metadata": {
      "needs_background": "light"
     },
     "output_type": "display_data"
    }
   ],
   "source": [
    "plt.subplot(2,1,1)\n",
    "plt.hist(full_values)\n",
    "plt.subplot(2,1,2)\n",
    "plt.hist(np.log10(df['value']))\n",
    "plt.show()"
   ]
  },
  {
   "cell_type": "markdown",
   "id": "678d0808-2471-4511-9215-b3166340f4b7",
   "metadata": {},
   "source": [
    "As shown above, the distributions look fairly similar (that is, there are no values in the tails that we are omitting from our analysis). Thus, it looks like our evaluation of the Decision Tree is correct.\n",
    "\n",
    "This proves that the physical characteristics of the molecules, regardless of the chemical structure, can be used to predict Henry's law as well as estimation values referenced in the literature."
   ]
  },
  {
   "cell_type": "code",
   "execution_count": 22,
   "id": "3f199568-01dc-48c5-bc1b-7c4198a1fec9",
   "metadata": {},
   "outputs": [
    {
     "data": {
      "text/plain": [
       "1.281777080298362"
      ]
     },
     "execution_count": 22,
     "metadata": {},
     "output_type": "execute_result"
    }
   ],
   "source": [
    "# Let's see how well a random forest does\n",
    "clf = RandomForestRegressor()\n",
    "clf.fit(X_train, y_train)\n",
    "\n",
    "mean_squared_error(y_test, clf.predict(X_test))"
   ]
  },
  {
   "cell_type": "code",
   "execution_count": 23,
   "id": "30c2eab3-b64f-42e5-bbea-8f093c784020",
   "metadata": {},
   "outputs": [
    {
     "data": {
      "text/plain": [
       "0.1778816451135007"
      ]
     },
     "execution_count": 23,
     "metadata": {},
     "output_type": "execute_result"
    }
   ],
   "source": [
    "# How well does this perform on the training set?\n",
    "mean_squared_error(y_train, clf.predict(X_train))"
   ]
  },
  {
   "cell_type": "markdown",
   "id": "0e7ca938-55a1-4827-a8ed-d12c06121c7a",
   "metadata": {},
   "source": [
    "So, even with a random forest thrown at the problem, we still can't quite get performance that beats the estimated values. This makes sense, as we should expect the traditional estimation methods work better.\n",
    "\n",
    "I think the dataset size is going to be a cause for concern.\n",
    "\n",
    "Mol2Vec seems like its going to work better!"
   ]
  },
  {
   "cell_type": "code",
   "execution_count": 24,
   "id": "6b64b0ba-3acc-4ffc-a7ce-2b05a2e299f3",
   "metadata": {},
   "outputs": [
    {
     "ename": "ModuleNotFoundError",
     "evalue": "No module named 'rdkit'",
     "output_type": "error",
     "traceback": [
      "\u001b[0;31m---------------------------------------------------------------------------\u001b[0m",
      "\u001b[0;31mModuleNotFoundError\u001b[0m                       Traceback (most recent call last)",
      "\u001b[0;32m<ipython-input-24-a7ede6996b7f>\u001b[0m in \u001b[0;36m<module>\u001b[0;34m\u001b[0m\n\u001b[0;32m----> 1\u001b[0;31m \u001b[0;32mfrom\u001b[0m \u001b[0mmol2vec\u001b[0m \u001b[0;32mimport\u001b[0m \u001b[0mfeatures\u001b[0m\u001b[0;34m\u001b[0m\u001b[0;34m\u001b[0m\u001b[0m\n\u001b[0m",
      "\u001b[0;32m/opt/anaconda3/lib/python3.8/site-packages/mol2vec/features.py\u001b[0m in \u001b[0;36m<module>\u001b[0;34m\u001b[0m\n\u001b[1;32m      9\u001b[0m \u001b[0;32mimport\u001b[0m \u001b[0mnumpy\u001b[0m \u001b[0;32mas\u001b[0m \u001b[0mnp\u001b[0m\u001b[0;34m\u001b[0m\u001b[0;34m\u001b[0m\u001b[0m\n\u001b[1;32m     10\u001b[0m \u001b[0;32mimport\u001b[0m \u001b[0mpandas\u001b[0m \u001b[0;32mas\u001b[0m \u001b[0mpd\u001b[0m\u001b[0;34m\u001b[0m\u001b[0;34m\u001b[0m\u001b[0m\n\u001b[0;32m---> 11\u001b[0;31m \u001b[0;32mfrom\u001b[0m \u001b[0mrdkit\u001b[0m \u001b[0;32mimport\u001b[0m \u001b[0mChem\u001b[0m\u001b[0;34m\u001b[0m\u001b[0;34m\u001b[0m\u001b[0m\n\u001b[0m\u001b[1;32m     12\u001b[0m \u001b[0;32mfrom\u001b[0m \u001b[0mrdkit\u001b[0m\u001b[0;34m.\u001b[0m\u001b[0mChem\u001b[0m \u001b[0;32mimport\u001b[0m \u001b[0mAllChem\u001b[0m\u001b[0;34m\u001b[0m\u001b[0;34m\u001b[0m\u001b[0m\n\u001b[1;32m     13\u001b[0m \u001b[0;32mfrom\u001b[0m \u001b[0mrdkit\u001b[0m\u001b[0;34m.\u001b[0m\u001b[0mChem\u001b[0m \u001b[0;32mimport\u001b[0m \u001b[0mPandasTools\u001b[0m\u001b[0;34m\u001b[0m\u001b[0;34m\u001b[0m\u001b[0m\n",
      "\u001b[0;31mModuleNotFoundError\u001b[0m: No module named 'rdkit'"
     ]
    }
   ],
   "source": [
    "from mol2vec import features"
   ]
  },
  {
   "cell_type": "code",
   "execution_count": 25,
   "id": "13a09cee-526a-4b01-b97b-53b63e7fbbf6",
   "metadata": {},
   "outputs": [
    {
     "name": "stdout",
     "output_type": "stream",
     "text": [
      "# packages in environment at /opt/anaconda3/envs/my-rdkit-env:\n",
      "#\n",
      "# Name                    Version                   Build  Channel\n",
      "appnope                   0.1.2           py39hecd8cb5_1001  \n",
      "argon2-cffi               21.3.0             pyhd3eb1b0_0  \n",
      "argon2-cffi-bindings      21.2.0           py39hca72f7f_0  \n",
      "asttokens                 2.0.5              pyhd3eb1b0_0  \n",
      "attrs                     21.4.0             pyhd3eb1b0_0  \n",
      "backcall                  0.2.0              pyhd3eb1b0_0  \n",
      "blas                      1.0                         mkl  \n",
      "bleach                    4.1.0              pyhd3eb1b0_0  \n",
      "boost                     1.74.0           py39ha1f3e3e_5    conda-forge\n",
      "boost-cpp                 1.74.0               hdbf7018_7    conda-forge\n",
      "brotli                    1.0.9                h0d85af4_6    conda-forge\n",
      "brotli-bin                1.0.9                h0d85af4_6    conda-forge\n",
      "bzip2                     1.0.8                h0d85af4_4    conda-forge\n",
      "ca-certificates           2022.3.29            hecd8cb5_0  \n",
      "cairo                     1.16.0            h9e0e54b_1010    conda-forge\n",
      "certifi                   2021.10.8        py39hecd8cb5_2  \n",
      "cffi                      1.15.0           py39hc55c11b_1  \n",
      "cycler                    0.11.0             pyhd8ed1ab_0    conda-forge\n",
      "debugpy                   1.5.1            py39he9d5cce_0  \n",
      "decorator                 5.1.1              pyhd3eb1b0_0  \n",
      "defusedxml                0.7.1              pyhd3eb1b0_0  \n",
      "entrypoints               0.3              py39hecd8cb5_0  \n",
      "executing                 0.8.3              pyhd3eb1b0_0  \n",
      "expat                     2.4.7                h96cf925_0    conda-forge\n",
      "font-ttf-dejavu-sans-mono 2.37                 hab24e00_0    conda-forge\n",
      "font-ttf-inconsolata      3.000                h77eed37_0    conda-forge\n",
      "font-ttf-source-code-pro  2.038                h77eed37_0    conda-forge\n",
      "font-ttf-ubuntu           0.83                 hab24e00_0    conda-forge\n",
      "fontconfig                2.13.96              h676cef8_2    conda-forge\n",
      "fonts-conda-ecosystem     1                             0    conda-forge\n",
      "fonts-conda-forge         1                             0    conda-forge\n",
      "fonttools                 4.31.2           py39h63b48b0_0    conda-forge\n",
      "freetype                  2.10.4               h4cff582_1    conda-forge\n",
      "gensim                    4.1.2                    pypi_0    pypi\n",
      "gettext                   0.19.8.1          hd1a6beb_1008    conda-forge\n",
      "giflib                    5.2.1                hbcb3906_2    conda-forge\n",
      "greenlet                  1.1.2            py39h9fcab8e_1    conda-forge\n",
      "icu                       69.1                 he49afe7_0    conda-forge\n",
      "importlib-metadata        4.11.3           py39hecd8cb5_0  \n",
      "importlib_metadata        4.11.3               hd3eb1b0_0  \n",
      "intel-openmp              2021.4.0          hecd8cb5_3538  \n",
      "ipykernel                 6.9.1            py39hecd8cb5_0  \n",
      "ipython                   8.1.1            py39hecd8cb5_0  \n",
      "ipython_genutils          0.2.0              pyhd3eb1b0_1  \n",
      "jbig                      2.1               h0d85af4_2003    conda-forge\n",
      "jedi                      0.18.1           py39hecd8cb5_1  \n",
      "jinja2                    3.0.3              pyhd3eb1b0_0  \n",
      "joblib                    1.1.0              pyhd3eb1b0_0  \n",
      "jpeg                      9e                   h0d85af4_0    conda-forge\n",
      "jsonschema                3.2.0              pyhd3eb1b0_2  \n",
      "jupyter_client            7.1.2              pyhd3eb1b0_0  \n",
      "jupyter_core              4.9.2            py39hecd8cb5_0  \n",
      "jupyterlab_pygments       0.1.2                      py_0  \n",
      "kiwisolver                1.4.0            py39h7248d28_0    conda-forge\n",
      "lcms2                     2.12                 h577c468_0    conda-forge\n",
      "lerc                      3.0                  he49afe7_0    conda-forge\n",
      "libbrotlicommon           1.0.9                h0d85af4_6    conda-forge\n",
      "libbrotlidec              1.0.9                h0d85af4_6    conda-forge\n",
      "libbrotlienc              1.0.9                h0d85af4_6    conda-forge\n",
      "libcxx                    13.0.1               hc203e6f_0    conda-forge\n",
      "libdeflate                1.10                 h0d85af4_0    conda-forge\n",
      "libffi                    3.4.2                h0d85af4_5    conda-forge\n",
      "libgfortran               3.0.1                h93005f0_2  \n",
      "libglib                   2.70.2               hf1fb8c0_4    conda-forge\n",
      "libiconv                  1.16                 haf1e3a3_0    conda-forge\n",
      "libpng                    1.6.37               h7cec526_2    conda-forge\n",
      "libsodium                 1.0.18               h1de35cc_0  \n",
      "libtiff                   4.3.0                h17f2ce3_3    conda-forge\n",
      "libwebp                   1.2.2                h28dabe5_0    conda-forge\n",
      "libwebp-base              1.2.2                h0d85af4_1    conda-forge\n",
      "libxcb                    1.13              h0d85af4_1004    conda-forge\n",
      "libzlib                   1.2.11            h6c3fc93_1014    conda-forge\n",
      "llvm-openmp               13.0.1               hcb1a161_1    conda-forge\n",
      "lz4-c                     1.9.3                he49afe7_1    conda-forge\n",
      "markupsafe                2.0.1            py39h9ed2024_0  \n",
      "matplotlib-base           3.5.1            py39hb07454d_0    conda-forge\n",
      "matplotlib-inline         0.1.2              pyhd3eb1b0_2  \n",
      "mistune                   0.8.4           py39h9ed2024_1000  \n",
      "mkl                       2021.4.0           hecd8cb5_637  \n",
      "mkl-service               2.4.0            py39h9ed2024_0  \n",
      "mkl_fft                   1.3.1            py39h4ab4a9b_0  \n",
      "mkl_random                1.2.2            py39hb2f4e1b_0  \n",
      "mol2vec                   0.1                      pypi_0    pypi\n",
      "munkres                   1.1.4              pyh9f0ad1d_0    conda-forge\n",
      "nb_conda_kernels          2.3.1            py39hecd8cb5_0  \n",
      "nbclient                  0.5.11             pyhd3eb1b0_0  \n",
      "nbconvert                 6.3.0            py39hecd8cb5_0  \n",
      "nbformat                  5.1.3              pyhd3eb1b0_0  \n",
      "ncurses                   6.3                  he49afe7_0    conda-forge\n",
      "nest-asyncio              1.5.1              pyhd3eb1b0_0  \n",
      "notebook                  6.4.8            py39hecd8cb5_0  \n",
      "numpy                     1.21.2           py39h4b4dc7a_0  \n",
      "numpy-base                1.21.2           py39he0bd621_0  \n",
      "openjpeg                  2.4.0                h6e7aa92_1    conda-forge\n",
      "openssl                   3.0.2                h6c3fc93_1    conda-forge\n",
      "packaging                 21.3               pyhd8ed1ab_0    conda-forge\n",
      "pandas                    1.4.1            py39h4d6be9b_0    conda-forge\n",
      "pandocfilters             1.5.0              pyhd3eb1b0_0  \n",
      "parso                     0.8.3              pyhd3eb1b0_0  \n",
      "pcre                      8.45                 he49afe7_0    conda-forge\n",
      "pexpect                   4.8.0              pyhd3eb1b0_3  \n",
      "pickleshare               0.7.5           pyhd3eb1b0_1003  \n",
      "pillow                    9.0.1            py39hd2c7aa1_2    conda-forge\n",
      "pip                       22.0.4             pyhd8ed1ab_0    conda-forge\n",
      "pixman                    0.40.0               hbcb3906_0    conda-forge\n",
      "prometheus_client         0.13.1             pyhd3eb1b0_0  \n",
      "prompt-toolkit            3.0.20             pyhd3eb1b0_0  \n",
      "pthread-stubs             0.4               hc929b4f_1001    conda-forge\n",
      "ptyprocess                0.7.0              pyhd3eb1b0_2  \n",
      "pubchempy                 1.0.4                    pypi_0    pypi\n",
      "pure_eval                 0.2.2              pyhd3eb1b0_0  \n",
      "pycairo                   1.21.0           py39ha25c624_0    conda-forge\n",
      "pycparser                 2.21               pyhd3eb1b0_0  \n",
      "pygments                  2.11.2             pyhd3eb1b0_0  \n",
      "pyparsing                 3.0.7              pyhd8ed1ab_0    conda-forge\n",
      "pyrsistent                0.18.0           py39hca72f7f_0  \n",
      "python                    3.9.12          h1cc4136_1_cpython    conda-forge\n",
      "python-dateutil           2.8.2              pyhd8ed1ab_0    conda-forge\n",
      "python_abi                3.9                      2_cp39    conda-forge\n",
      "pytz                      2022.1             pyhd8ed1ab_0    conda-forge\n",
      "pyzmq                     22.3.0           py39he9d5cce_2  \n",
      "rdkit                     2021.09.5        py39h1ae426c_0    conda-forge\n",
      "readline                  8.1                  h05e3726_0    conda-forge\n",
      "reportlab                 3.5.68           py39hf37cc50_1    conda-forge\n",
      "scikit-learn              1.0.2            py39hae1ba45_1  \n",
      "scipy                     1.8.0                    pypi_0    pypi\n",
      "seaborn                   0.11.2                   pypi_0    pypi\n",
      "send2trash                1.8.0              pyhd3eb1b0_1  \n",
      "setuptools                61.2.0           py39h6e9494a_1    conda-forge\n",
      "six                       1.16.0             pyh6c4a22f_0    conda-forge\n",
      "smart-open                5.2.1                    pypi_0    pypi\n",
      "sqlalchemy                1.4.32           py39h63b48b0_0    conda-forge\n",
      "sqlite                    3.37.1               hb516253_0    conda-forge\n",
      "stack_data                0.2.0              pyhd3eb1b0_0  \n",
      "terminado                 0.13.1           py39hecd8cb5_0  \n",
      "testpath                  0.5.0              pyhd3eb1b0_0  \n",
      "threadpoolctl             2.2.0              pyh0d69192_0  \n",
      "tk                        8.6.12               h5dbffcc_0    conda-forge\n",
      "tornado                   6.1              py39h9ed2024_0  \n",
      "tqdm                      4.63.1                   pypi_0    pypi\n",
      "traitlets                 5.1.1              pyhd3eb1b0_0  \n",
      "typing-extensions         4.1.1                hd3eb1b0_0  \n",
      "typing_extensions         4.1.1              pyh06a4308_0  \n",
      "tzdata                    2022a                h191b570_0    conda-forge\n",
      "unicodedata2              14.0.0           py39h89e85a6_0    conda-forge\n",
      "wcwidth                   0.2.5              pyhd3eb1b0_0  \n",
      "webencodings              0.5.1            py39hecd8cb5_1  \n",
      "wheel                     0.37.1             pyhd8ed1ab_0    conda-forge\n",
      "xorg-libxau               1.0.9                h35c211d_0    conda-forge\n",
      "xorg-libxdmcp             1.1.3                h35c211d_0    conda-forge\n",
      "xz                        5.2.5                haf1e3a3_1    conda-forge\n",
      "zeromq                    4.3.4                h23ab428_0  \n",
      "zipp                      3.7.0              pyhd3eb1b0_0  \n",
      "zlib                      1.2.11            h6c3fc93_1014    conda-forge\n",
      "zstd                      1.5.2                h582d3a0_0    conda-forge\n"
     ]
    }
   ],
   "source": [
    "!conda list -n my-rdkit-env"
   ]
  }
 ],
 "metadata": {
  "kernelspec": {
   "display_name": "Python 3",
   "language": "python",
   "name": "python3"
  },
  "language_info": {
   "codemirror_mode": {
    "name": "ipython",
    "version": 3
   },
   "file_extension": ".py",
   "mimetype": "text/x-python",
   "name": "python",
   "nbconvert_exporter": "python",
   "pygments_lexer": "ipython3",
   "version": "3.8.8"
  }
 },
 "nbformat": 4,
 "nbformat_minor": 5
}
