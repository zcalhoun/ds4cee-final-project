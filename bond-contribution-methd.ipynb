{
 "cells": [
  {
   "cell_type": "markdown",
   "id": "936109c1",
   "metadata": {},
   "source": [
    "# The Bond Contribution Method\n",
    "In this notebook, I'm going to implement the Bond Contribution method."
   ]
  },
  {
   "cell_type": "code",
   "execution_count": 1,
   "id": "5537bfc0",
   "metadata": {},
   "outputs": [],
   "source": [
    "import pandas as pd\n",
    "\n",
    "from mol2vec import features\n",
    "from mol2vec.features import mol2sentence\n",
    "from mol2vec.features import sentences2vec\n",
    "from rdkit import Chem\n",
    "\n",
    "from sklearn.model_selection import train_test_split\n",
    "\n",
    "from gensim.models import word2vec"
   ]
  },
  {
   "cell_type": "code",
   "execution_count": 2,
   "id": "19f39f49",
   "metadata": {},
   "outputs": [],
   "source": [
    "df = pd.read_csv('./data/clean_henrys.csv', index_col=0)"
   ]
  },
  {
   "cell_type": "code",
   "execution_count": 6,
   "id": "f3dfd6b2",
   "metadata": {},
   "outputs": [],
   "source": [
    "chem_test = Chem.MolFromSmiles(df['canonical_smiles'].iloc[1])"
   ]
  },
  {
   "cell_type": "code",
   "execution_count": 9,
   "id": "4608bd01",
   "metadata": {},
   "outputs": [
    {
     "data": {
      "image/png": "[encoded data removed]",
      "text/plain": [
       "<rdkit.Chem.rdchem.Mol at 0x10a576ac0>"
      ]
     },
     "execution_count": 9,
     "metadata": {},
     "output_type": "execute_result"
    }
   ],
   "source": [
    "chem_test"
   ]
  },
  {
   "cell_type": "code",
   "execution_count": 25,
   "id": "b3c4ca7f",
   "metadata": {},
   "outputs": [
    {
     "data": {
      "text/plain": [
       "['ClearProp',\n",
       " 'DescribeQuery',\n",
       " 'GetBeginAtom',\n",
       " 'GetBeginAtomIdx',\n",
       " 'GetBondDir',\n",
       " 'GetBondType',\n",
       " 'GetBondTypeAsDouble',\n",
       " 'GetBoolProp',\n",
       " 'GetDoubleProp',\n",
       " 'GetEndAtom',\n",
       " 'GetEndAtomIdx',\n",
       " 'GetIdx',\n",
       " 'GetIntProp',\n",
       " 'GetIsAromatic',\n",
       " 'GetIsConjugated',\n",
       " 'GetOtherAtom',\n",
       " 'GetOtherAtomIdx',\n",
       " 'GetOwningMol',\n",
       " 'GetProp',\n",
       " 'GetPropNames',\n",
       " 'GetPropsAsDict',\n",
       " 'GetSmarts',\n",
       " 'GetStereo',\n",
       " 'GetStereoAtoms',\n",
       " 'GetUnsignedProp',\n",
       " 'GetValenceContrib',\n",
       " 'HasOwningMol',\n",
       " 'HasProp',\n",
       " 'HasQuery',\n",
       " 'IsInRing',\n",
       " 'IsInRingSize',\n",
       " 'Match',\n",
       " 'SetBondDir',\n",
       " 'SetBondType',\n",
       " 'SetBoolProp',\n",
       " 'SetDoubleProp',\n",
       " 'SetIntProp',\n",
       " 'SetIsAromatic',\n",
       " 'SetIsConjugated',\n",
       " 'SetProp',\n",
       " 'SetStereo',\n",
       " 'SetStereoAtoms',\n",
       " 'SetUnsignedProp',\n",
       " '__class__',\n",
       " '__delattr__',\n",
       " '__dict__',\n",
       " '__dir__',\n",
       " '__doc__',\n",
       " '__eq__',\n",
       " '__format__',\n",
       " '__ge__',\n",
       " '__getattribute__',\n",
       " '__gt__',\n",
       " '__hash__',\n",
       " '__init__',\n",
       " '__init_subclass__',\n",
       " '__le__',\n",
       " '__lt__',\n",
       " '__module__',\n",
       " '__ne__',\n",
       " '__new__',\n",
       " '__reduce__',\n",
       " '__reduce_ex__',\n",
       " '__repr__',\n",
       " '__setattr__',\n",
       " '__sizeof__',\n",
       " '__str__',\n",
       " '__subclasshook__',\n",
       " '__weakref__']"
      ]
     },
     "execution_count": 25,
     "metadata": {},
     "output_type": "execute_result"
    }
   ],
   "source": [
    "dir(chem_test.GetBonds()[0])"
   ]
  },
  {
   "cell_type": "code",
   "execution_count": 43,
   "id": "d7684af4",
   "metadata": {},
   "outputs": [],
   "source": [
    "def bond_contribution(molecule):\n",
    "    \n",
    "    for bond in molecule.GetBonds():\n",
    "        bond_type = bond.GetBondType()\n",
    "        \n",
    "        if single_bond(bond_type):\n",
    "            if(aliphatic(begin) and aliphatic(end)):\n",
    "                bond_contrib += get_contribution(begin, end, 'aliphatic')\n",
    "            if()\n",
    "        if str(bond_type) == 'SINGLE':\n",
    "            # Calculate \n",
    "            begin_atom = bond.GetBeginAtom()\n",
    "            end_atom = bond.GetEndAtom()\n",
    "            print(\"Begin: \", begin_atom)\n",
    "            print(\"End: \", end_atom)\n",
    "            \n",
    "        elif bond == 'DOUBLE':\n",
    "            pass\n",
    "        elif bond == 'TRIPLE':\n",
    "            pass\n",
    "        elif bond == 'AROMATIC':\n",
    "            pass\n",
    "        else:\n",
    "            print(\"Bond not found\")"
   ]
  },
  {
   "cell_type": "code",
   "execution_count": 47,
   "id": "a7562c61",
   "metadata": {},
   "outputs": [
    {
     "data": {
      "text/plain": [
       "['ClearProp',\n",
       " 'DescribeQuery',\n",
       " 'GetAtomMapNum',\n",
       " 'GetAtomicNum',\n",
       " 'GetBonds',\n",
       " 'GetBoolProp',\n",
       " 'GetChiralTag',\n",
       " 'GetDegree',\n",
       " 'GetDoubleProp',\n",
       " 'GetExplicitBitVectProp',\n",
       " 'GetExplicitValence',\n",
       " 'GetFormalCharge',\n",
       " 'GetHybridization',\n",
       " 'GetIdx',\n",
       " 'GetImplicitValence',\n",
       " 'GetIntProp',\n",
       " 'GetIsAromatic',\n",
       " 'GetIsotope',\n",
       " 'GetMass',\n",
       " 'GetMonomerInfo',\n",
       " 'GetNeighbors',\n",
       " 'GetNoImplicit',\n",
       " 'GetNumExplicitHs',\n",
       " 'GetNumImplicitHs',\n",
       " 'GetNumRadicalElectrons',\n",
       " 'GetOwningMol',\n",
       " 'GetPDBResidueInfo',\n",
       " 'GetProp',\n",
       " 'GetPropNames',\n",
       " 'GetPropsAsDict',\n",
       " 'GetSmarts',\n",
       " 'GetSymbol',\n",
       " 'GetTotalDegree',\n",
       " 'GetTotalNumHs',\n",
       " 'GetTotalValence',\n",
       " 'GetUnsignedProp',\n",
       " 'HasOwningMol',\n",
       " 'HasProp',\n",
       " 'HasQuery',\n",
       " 'InvertChirality',\n",
       " 'IsInRing',\n",
       " 'IsInRingSize',\n",
       " 'Match',\n",
       " 'NeedsUpdatePropertyCache',\n",
       " 'SetAtomMapNum',\n",
       " 'SetAtomicNum',\n",
       " 'SetBoolProp',\n",
       " 'SetChiralTag',\n",
       " 'SetDoubleProp',\n",
       " 'SetExplicitBitVectProp',\n",
       " 'SetFormalCharge',\n",
       " 'SetHybridization',\n",
       " 'SetIntProp',\n",
       " 'SetIsAromatic',\n",
       " 'SetIsotope',\n",
       " 'SetMonomerInfo',\n",
       " 'SetNoImplicit',\n",
       " 'SetNumExplicitHs',\n",
       " 'SetNumRadicalElectrons',\n",
       " 'SetPDBResidueInfo',\n",
       " 'SetProp',\n",
       " 'SetUnsignedProp',\n",
       " 'UpdatePropertyCache',\n",
       " '__class__',\n",
       " '__copy__',\n",
       " '__delattr__',\n",
       " '__dict__',\n",
       " '__dir__',\n",
       " '__doc__',\n",
       " '__eq__',\n",
       " '__format__',\n",
       " '__ge__',\n",
       " '__getattribute__',\n",
       " '__gt__',\n",
       " '__hash__',\n",
       " '__init__',\n",
       " '__init_subclass__',\n",
       " '__instance_size__',\n",
       " '__le__',\n",
       " '__lt__',\n",
       " '__module__',\n",
       " '__ne__',\n",
       " '__new__',\n",
       " '__reduce__',\n",
       " '__reduce_ex__',\n",
       " '__repr__',\n",
       " '__setattr__',\n",
       " '__sizeof__',\n",
       " '__str__',\n",
       " '__subclasshook__',\n",
       " '__weakref__']"
      ]
     },
     "execution_count": 47,
     "metadata": {},
     "output_type": "execute_result"
    }
   ],
   "source": [
    "dir(chem_test.GetAtoms()[0])"
   ]
  },
  {
   "cell_type": "code",
   "execution_count": 40,
   "id": "42aa4968",
   "metadata": {},
   "outputs": [
    {
     "data": {
      "text/plain": [
       "True"
      ]
     },
     "execution_count": 40,
     "metadata": {},
     "output_type": "execute_result"
    }
   ],
   "source": [
    "str(chem_test.GetBonds()[0].GetBondType()) == 'SINGLE'"
   ]
  },
  {
   "cell_type": "code",
   "execution_count": 10,
   "id": "e62f5996",
   "metadata": {},
   "outputs": [
    {
     "data": {
      "image/png": "[encoded data removed]",
      "text/plain": [
       "<rdkit.Chem.rdchem.Mol at 0x122d96040>"
      ]
     },
     "execution_count": 10,
     "metadata": {},
     "output_type": "execute_result"
    }
   ],
   "source": [
    "m = Chem.MolFromSmiles('c1nccc2n1ccc2')\n",
    "m"
   ]
  }
 ],
 "metadata": {
  "kernelspec": {
   "display_name": "Python 3 (ipykernel)",
   "language": "python",
   "name": "python3"
  },
  "language_info": {
   "codemirror_mode": {
    "name": "ipython",
    "version": 3
   },
   "file_extension": ".py",
   "mimetype": "text/x-python",
   "name": "python",
   "nbconvert_exporter": "python",
   "pygments_lexer": "ipython3",
   "version": "3.9.12"
  }
 },
 "nbformat": 4,
 "nbformat_minor": 5
}
