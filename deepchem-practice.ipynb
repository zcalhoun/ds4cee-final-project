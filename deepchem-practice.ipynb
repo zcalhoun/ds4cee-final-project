{
 "cells": [
  {
   "cell_type": "code",
   "execution_count": 2,
   "id": "37a23511",
   "metadata": {},
   "outputs": [],
   "source": [
    "import numpy as np\n",
    "import pandas as pd\n",
    "import deepchem as dc\n",
    "\n",
    "from sklearn.model_selection import train_test_split\n",
    "from sklearn.neighbors import KNeighborsRegressor\n",
    "from sklearn.metrics import mean_squared_error\n",
    "\n",
    "import matplotlib.pyplot as plt"
   ]
  },
  {
   "cell_type": "code",
   "execution_count": 3,
   "id": "f7fe7d1d",
   "metadata": {},
   "outputs": [],
   "source": [
    "# Read in the data.\n",
    "df = pd.read_csv('./data/clean_henrys.csv', index_col=0)"
   ]
  },
  {
   "cell_type": "code",
   "execution_count": 5,
   "id": "79e71a5a",
   "metadata": {},
   "outputs": [],
   "source": [
    "feat = dc.feat.RDKitDescriptors()\n",
    "chem_descriptions = feat.featurize(df['canonical_smiles'])"
   ]
  },
  {
   "cell_type": "code",
   "execution_count": 6,
   "id": "f5bf9ae3",
   "metadata": {},
   "outputs": [],
   "source": [
    "y = np.log10(df['value'])"
   ]
  },
  {
   "cell_type": "code",
   "execution_count": 7,
   "id": "1fdb3d1a",
   "metadata": {},
   "outputs": [],
   "source": [
    "x_clean = []\n",
    "y_clean = []\n",
    "for cd, hl in zip(chem_descriptions, y):\n",
    "    if np.isnan(np.min(cd)) or np.isnan(np.max(cd)):\n",
    "        continue\n",
    "    \n",
    "    x_clean.append(cd)\n",
    "    y_clean.append(hl)\n"
   ]
  },
  {
   "cell_type": "code",
   "execution_count": 6,
   "id": "cf27cf7b",
   "metadata": {},
   "outputs": [],
   "source": [
    "X_train, X_test, y_train, y_test = train_test_split(x_clean, y_clean, test_size=0.2, random_state=42)"
   ]
  },
  {
   "cell_type": "code",
   "execution_count": 80,
   "id": "9f4c66f6",
   "metadata": {},
   "outputs": [
    {
     "data": {
      "text/plain": [
       "0.5035534929313803"
      ]
     },
     "execution_count": 80,
     "metadata": {},
     "output_type": "execute_result"
    }
   ],
   "source": [
    "model = KNeighborsRegressor(10)\n",
    "\n",
    "model.fit(X_train, y_train)\n",
    "\n",
    "\n",
    "model.score(X_test, y_test)"
   ]
  },
  {
   "cell_type": "code",
   "execution_count": 81,
   "id": "3bc4cab7",
   "metadata": {},
   "outputs": [
    {
     "data": {
      "text/plain": [
       "1.6581433552755027"
      ]
     },
     "execution_count": 81,
     "metadata": {},
     "output_type": "execute_result"
    }
   ],
   "source": [
    "mean_squared_error(model.predict(X_test), y_test)"
   ]
  },
  {
   "cell_type": "code",
   "execution_count": 82,
   "id": "80f96f60",
   "metadata": {},
   "outputs": [],
   "source": [
    "from sklearn.linear_model import Lasso"
   ]
  },
  {
   "cell_type": "code",
   "execution_count": 102,
   "id": "8d13854d",
   "metadata": {},
   "outputs": [
    {
     "data": {
      "text/plain": [
       "0.7385880672937049"
      ]
     },
     "execution_count": 102,
     "metadata": {},
     "output_type": "execute_result"
    }
   ],
   "source": [
    "clf = Lasso(alpha=0.01, max_iter=100000)\n",
    "\n",
    "clf.fit(X_train, y_train)\n",
    "\n",
    "clf.score(X_test, y_test)"
   ]
  },
  {
   "cell_type": "code",
   "execution_count": 96,
   "id": "0d98a16c",
   "metadata": {},
   "outputs": [
    {
     "data": {
      "text/plain": [
       "0.8731221854417376"
      ]
     },
     "execution_count": 96,
     "metadata": {},
     "output_type": "execute_result"
    }
   ],
   "source": [
    "mean_squared_error(clf.predict(X_test), y_test)"
   ]
  },
  {
   "cell_type": "code",
   "execution_count": 137,
   "id": "ce9a5dfa",
   "metadata": {},
   "outputs": [
    {
     "data": {
      "text/plain": [
       "0.6143647877859607"
      ]
     },
     "execution_count": 137,
     "metadata": {},
     "output_type": "execute_result"
    }
   ],
   "source": [
    "mean_squared_error(clf.predict(X_train), y_train)"
   ]
  },
  {
   "cell_type": "code",
   "execution_count": 97,
   "id": "2224fb74",
   "metadata": {},
   "outputs": [
    {
     "data": {
      "text/plain": [
       "<matplotlib.collections.PathCollection at 0x12a407520>"
      ]
     },
     "execution_count": 97,
     "metadata": {},
     "output_type": "execute_result"
    },
    {
     "data": {
      "image/png": "[encoded data removed]",
      "text/plain": [
       "<Figure size 432x288 with 1 Axes>"
      ]
     },
     "metadata": {
      "needs_background": "light"
     },
     "output_type": "display_data"
    }
   ],
   "source": [
    "\n",
    "\n",
    "plt.scatter(clf.predict(X_test), y_test)"
   ]
  },
  {
   "cell_type": "code",
   "execution_count": 138,
   "id": "9bf56ca7",
   "metadata": {},
   "outputs": [
    {
     "data": {
      "text/plain": [
       "0.7526303633379454"
      ]
     },
     "execution_count": 138,
     "metadata": {},
     "output_type": "execute_result"
    }
   ],
   "source": [
    "from sklearn.linear_model import Ridge\n",
    "\n",
    "clf = Ridge(5)\n",
    "\n",
    "clf.fit(X_train, y_train)\n",
    "\n",
    "clf.score(X_test, y_test)"
   ]
  },
  {
   "cell_type": "code",
   "execution_count": 140,
   "id": "0b9942ce",
   "metadata": {},
   "outputs": [
    {
     "data": {
      "text/plain": [
       "0.8660910227179299"
      ]
     },
     "execution_count": 140,
     "metadata": {},
     "output_type": "execute_result"
    }
   ],
   "source": [
    "clf.score(X_train, y_train)"
   ]
  },
  {
   "cell_type": "code",
   "execution_count": 7,
   "id": "dc624b27",
   "metadata": {},
   "outputs": [
    {
     "data": {
      "text/plain": [
       "0.8609680555012685"
      ]
     },
     "execution_count": 7,
     "metadata": {},
     "output_type": "execute_result"
    }
   ],
   "source": [
    "from sklearn.ensemble import RandomForestRegressor\n",
    "\n",
    "rf = RandomForestRegressor()\n",
    "\n",
    "rf.fit(X_train, y_train)\n",
    "\n",
    "rf.score(X_test, y_test)"
   ]
  },
  {
   "cell_type": "code",
   "execution_count": 8,
   "id": "9142a48c",
   "metadata": {},
   "outputs": [
    {
     "data": {
      "text/plain": [
       "0.46437006134427106"
      ]
     },
     "execution_count": 8,
     "metadata": {},
     "output_type": "execute_result"
    }
   ],
   "source": [
    "mean_squared_error(rf.predict(X_test), y_test)"
   ]
  },
  {
   "cell_type": "code",
   "execution_count": 11,
   "id": "0941beba",
   "metadata": {},
   "outputs": [
    {
     "data": {
      "text/plain": [
       "<matplotlib.collections.PathCollection at 0x1203c5340>"
      ]
     },
     "execution_count": 11,
     "metadata": {},
     "output_type": "execute_result"
    },
    {
     "data": {
      "image/png": "[encoded data removed]",
      "text/plain": [
       "<Figure size 432x288 with 1 Axes>"
      ]
     },
     "metadata": {
      "needs_background": "light"
     },
     "output_type": "display_data"
    }
   ],
   "source": [
    "plt.scatter(rf.predict(X_test), y_test)"
   ]
  },
  {
   "cell_type": "markdown",
   "id": "e22d100d",
   "metadata": {},
   "source": [
    "Well, given a lot of chemical data, we can build a model with an R2 value of 0.86 on the test set...that's pretty darn good.\n",
    "\n",
    "Why is something like this not used by the EPA? The EPA seems to have gone with the OPERA model because it's reportedly more interpretable. It also uses the fingerprints, right?"
   ]
  },
  {
   "cell_type": "code",
   "execution_count": 30,
   "id": "5b5b5fb2",
   "metadata": {},
   "outputs": [
    {
     "data": {
      "text/plain": [
       "[<matplotlib.lines.Line2D at 0x122c071c0>]"
      ]
     },
     "execution_count": 30,
     "metadata": {},
     "output_type": "execute_result"
    },
    {
     "data": {
      "image/png": "[encoded data removed]",
      "text/plain": [
       "<Figure size 432x288 with 1 Axes>"
      ]
     },
     "metadata": {
      "needs_background": "light"
     },
     "output_type": "display_data"
    }
   ],
   "source": [
    "num_est = [50, 75, 100]\n",
    "\n",
    "scores = []\n",
    "for n in num_est:\n",
    "    rf = RandomForestRegressor(n_estimators=n)\n",
    "    \n",
    "    rf.fit(X_train, y_train)\n",
    "    \n",
    "    scores.append(rf.score(X_test, y_test))\n",
    "    \n",
    "plt.plot(num_est, scores)"
   ]
  },
  {
   "cell_type": "code",
   "execution_count": 22,
   "id": "3cf97ff7",
   "metadata": {},
   "outputs": [
    {
     "data": {
      "text/plain": [
       "<BarContainer object of 10 artists>"
      ]
     },
     "execution_count": 22,
     "metadata": {},
     "output_type": "execute_result"
    },
    {
     "data": {
      "image/png": "[encoded data removed]",
      "text/plain": [
       "<Figure size 432x288 with 1 Axes>"
      ]
     },
     "metadata": {
      "needs_background": "light"
     },
     "output_type": "display_data"
    }
   ],
   "source": [
    "pca = PCA(n_components=10)\n",
    "\n",
    "pca.fit(X_train)\n",
    "\n",
    "plt.bar(range(0,10), pca.explained_variance_ratio_)"
   ]
  },
  {
   "cell_type": "markdown",
   "id": "b2e40b78",
   "metadata": {},
   "source": [
    "# Creating a graph convolutional model"
   ]
  },
  {
   "cell_type": "code",
   "execution_count": 5,
   "id": "ed347438",
   "metadata": {
    "scrolled": true
   },
   "outputs": [],
   "source": [
    "from deepchem.models.torch_models import GCNModel"
   ]
  },
  {
   "cell_type": "code",
   "execution_count": 6,
   "id": "074f58cf",
   "metadata": {},
   "outputs": [
    {
     "name": "stderr",
     "output_type": "stream",
     "text": [
      "Failed to featurize datapoint 140, [Kr]. Appending empty array\n",
      "Exception message: More than one atom should be present in the molecule for this featurizer to work.\n",
      "Failed to featurize datapoint 163, [Xe]. Appending empty array\n",
      "Exception message: More than one atom should be present in the molecule for this featurizer to work.\n",
      "Failed to featurize datapoint 203, [Ne]. Appending empty array\n",
      "Exception message: More than one atom should be present in the molecule for this featurizer to work.\n",
      "Failed to featurize datapoint 577, N. Appending empty array\n",
      "Exception message: More than one atom should be present in the molecule for this featurizer to work.\n",
      "Failed to featurize datapoint 597, [Hg]. Appending empty array\n",
      "Exception message: More than one atom should be present in the molecule for this featurizer to work.\n",
      "Failed to featurize datapoint 693, [He]. Appending empty array\n",
      "Exception message: More than one atom should be present in the molecule for this featurizer to work.\n",
      "Failed to featurize datapoint 769, C. Appending empty array\n",
      "Exception message: More than one atom should be present in the molecule for this featurizer to work.\n",
      "Failed to featurize datapoint 844, [Ar]. Appending empty array\n",
      "Exception message: More than one atom should be present in the molecule for this featurizer to work.\n",
      "Failed to featurize datapoint 864, P. Appending empty array\n",
      "Exception message: More than one atom should be present in the molecule for this featurizer to work.\n",
      "/opt/anaconda3/envs/deepchem/lib/python3.7/site-packages/deepchem/feat/base_classes.py:305: VisibleDeprecationWarning: Creating an ndarray from ragged nested sequences (which is a list-or-tuple of lists-or-tuples-or ndarrays with different lengths or shapes) is deprecated. If you meant to do this, you must specify 'dtype=object' when creating the ndarray.\n",
      "  return np.asarray(features)\n"
     ]
    }
   ],
   "source": [
    "feat = dc.feat.MolGraphConvFeaturizer()\n",
    "chem_descriptions = feat.featurize(df['canonical_smiles'])"
   ]
  },
  {
   "cell_type": "code",
   "execution_count": 7,
   "id": "c0030405",
   "metadata": {},
   "outputs": [],
   "source": [
    "x_clean = []\n",
    "y_clean = []\n",
    "for x_val, y_val in zip(chem_descriptions, y):\n",
    "    if type(x_val) == dc.feat.graph_data.GraphData:\n",
    "        x_clean.append(x_val)\n",
    "        y_clean.append(y_val)"
   ]
  },
  {
   "cell_type": "code",
   "execution_count": 8,
   "id": "7cd74c64",
   "metadata": {},
   "outputs": [],
   "source": [
    "X_train, X_test, y_train, y_test = train_test_split(x_clean, y_clean, test_size=0.2, random_state=42)"
   ]
  },
  {
   "cell_type": "code",
   "execution_count": 10,
   "id": "4dd733fb",
   "metadata": {},
   "outputs": [],
   "source": [
    "train_dataset = dc.data.NumpyDataset(X=X_train, y=y_train)\n",
    "test_dataset = dc.data.NumpyDataset(X=X_test, y=y_test)"
   ]
  },
  {
   "cell_type": "code",
   "execution_count": 11,
   "id": "146153c4",
   "metadata": {},
   "outputs": [
    {
     "name": "stderr",
     "output_type": "stream",
     "text": [
      "/opt/anaconda3/envs/deepchem/lib/python3.7/site-packages/torch/autocast_mode.py:141: UserWarning: User provided device_type of 'cuda', but CUDA is not available. Disabling\n",
      "  warnings.warn('User provided device_type of \\'cuda\\', but CUDA is not available. Disabling')\n"
     ]
    },
    {
     "data": {
      "text/plain": [
       "0.37526817321777345"
      ]
     },
     "execution_count": 11,
     "metadata": {},
     "output_type": "execute_result"
    }
   ],
   "source": [
    "model = GCNModel(n_tasks=1, mode='regression', dropout=0.2)\n",
    "model.fit(train_dataset, nb_epoch=100)"
   ]
  },
  {
   "cell_type": "code",
   "execution_count": 13,
   "id": "62690f4d",
   "metadata": {},
   "outputs": [],
   "source": [
    "preds = model.predict_on_batch(X_test)"
   ]
  },
  {
   "cell_type": "code",
   "execution_count": 14,
   "id": "b496b726",
   "metadata": {},
   "outputs": [],
   "source": [
    "from sklearn.metrics import r2_score"
   ]
  },
  {
   "cell_type": "code",
   "execution_count": 16,
   "id": "ad5ae1f8",
   "metadata": {},
   "outputs": [
    {
     "data": {
      "text/plain": [
       "0.7931481772876514"
      ]
     },
     "execution_count": 16,
     "metadata": {},
     "output_type": "execute_result"
    }
   ],
   "source": [
    "r2_score(y_test, preds)"
   ]
  },
  {
   "cell_type": "code",
   "execution_count": 17,
   "id": "2497a162",
   "metadata": {},
   "outputs": [
    {
     "name": "stderr",
     "output_type": "stream",
     "text": [
      "/opt/anaconda3/envs/deepchem/lib/python3.7/site-packages/torch/autocast_mode.py:141: UserWarning: User provided device_type of 'cuda', but CUDA is not available. Disabling\n",
      "  warnings.warn('User provided device_type of \\'cuda\\', but CUDA is not available. Disabling')\n"
     ]
    },
    {
     "data": {
      "text/plain": [
       "0.9364861297607422"
      ]
     },
     "execution_count": 17,
     "metadata": {},
     "output_type": "execute_result"
    }
   ],
   "source": [
    "from deepchem.models.torch_models import GATModel\n",
    "\n",
    "model = GATModel(n_tasks=1, mode='regression', dropout=0.2)\n",
    "model.fit(train_dataset, nb_epoch=100)"
   ]
  },
  {
   "cell_type": "code",
   "execution_count": 18,
   "id": "d3ea0513",
   "metadata": {},
   "outputs": [
    {
     "data": {
      "text/plain": [
       "0.7138633424101157"
      ]
     },
     "execution_count": 18,
     "metadata": {},
     "output_type": "execute_result"
    }
   ],
   "source": [
    "preds = model.predict_on_batch(X_test)\n",
    "r2_score(y_test, preds)"
   ]
  },
  {
   "cell_type": "code",
   "execution_count": 19,
   "id": "ceeb5f38",
   "metadata": {},
   "outputs": [
    {
     "name": "stderr",
     "output_type": "stream",
     "text": [
      "/opt/anaconda3/envs/deepchem/lib/python3.7/site-packages/torch/autocast_mode.py:141: UserWarning: User provided device_type of 'cuda', but CUDA is not available. Disabling\n",
      "  warnings.warn('User provided device_type of \\'cuda\\', but CUDA is not available. Disabling')\n"
     ]
    },
    {
     "data": {
      "text/plain": [
       "1.0132347869873046"
      ]
     },
     "execution_count": 19,
     "metadata": {},
     "output_type": "execute_result"
    }
   ],
   "source": [
    "from deepchem.models.torch_models import MPNNModel\n",
    "\n",
    "model = GATModel(n_tasks=1, mode='regression', dropout=0.2)\n",
    "model.fit(train_dataset, nb_epoch=100)"
   ]
  },
  {
   "cell_type": "code",
   "execution_count": 20,
   "id": "ec0c6bc0",
   "metadata": {},
   "outputs": [
    {
     "data": {
      "text/plain": [
       "0.7154113354501642"
      ]
     },
     "execution_count": 20,
     "metadata": {},
     "output_type": "execute_result"
    }
   ],
   "source": [
    "preds = model.predict_on_batch(X_test)\n",
    "r2_score(y_test, preds)"
   ]
  },
  {
   "cell_type": "code",
   "execution_count": 21,
   "id": "8552705d",
   "metadata": {},
   "outputs": [
    {
     "data": {
      "text/plain": [
       "1.012480917939502"
      ]
     },
     "execution_count": 21,
     "metadata": {},
     "output_type": "execute_result"
    }
   ],
   "source": [
    "from sklearn.metrics import mean_squared_error\n",
    "\n",
    "mean_squared_error(preds, y_test)"
   ]
  }
 ],
 "metadata": {
  "kernelspec": {
   "display_name": "Python 3",
   "language": "python",
   "name": "python3"
  },
  "language_info": {
   "codemirror_mode": {
    "name": "ipython",
    "version": 3
   },
   "file_extension": ".py",
   "mimetype": "text/x-python",
   "name": "python",
   "nbconvert_exporter": "python",
   "pygments_lexer": "ipython3",
   "version": "3.7.13"
  }
 },
 "nbformat": 4,
 "nbformat_minor": 5
}
