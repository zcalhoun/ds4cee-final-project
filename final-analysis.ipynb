{
 "cells": [
  {
   "cell_type": "code",
   "execution_count": 1,
   "metadata": {},
   "outputs": [],
   "source": [
    "import pandas as pd\n",
    "import numpy as np\n",
    "import deepchem as dc\n",
    "\n",
    "from sklearn.model_selection import train_test_split\n",
    "from sklearn.ensemble import RandomForestRegressor\n",
    "from sklearn.neighbors import KNeighborsRegressor\n",
    "from sklearn.linear_model import Ridge\n",
    "from sklearn.metrics import mean_squared_error\n",
    "\n",
    "import matplotlib.pyplot as plt"
   ]
  },
  {
   "cell_type": "markdown",
   "metadata": {},
   "source": [
    "# Data Clean Up\n",
    "We need to ensure that the same set of molecules is going to be used in each model, so we will ensure that each of the molecules has both an RDKit representation, a GraphConvMol representation, and a Mol2Vec representation."
   ]
  },
  {
   "cell_type": "code",
   "execution_count": 2,
   "metadata": {},
   "outputs": [],
   "source": [
    "df = pd.read_csv('./data/clean_henrys.csv', index_col=0)"
   ]
  },
  {
   "cell_type": "code",
   "execution_count": 24,
   "metadata": {},
   "outputs": [
    {
     "data": {
      "text/html": [
       "<div>\n",
       "<style scoped>\n",
       "    .dataframe tbody tr th:only-of-type {\n",
       "        vertical-align: middle;\n",
       "    }\n",
       "\n",
       "    .dataframe tbody tr th {\n",
       "        vertical-align: top;\n",
       "    }\n",
       "\n",
       "    .dataframe thead th {\n",
       "        text-align: right;\n",
       "    }\n",
       "</style>\n",
       "<table border=\"1\" class=\"dataframe\">\n",
       "  <thead>\n",
       "    <tr style=\"text-align: right;\">\n",
       "      <th></th>\n",
       "      <th>inchikey</th>\n",
       "      <th>species_id</th>\n",
       "      <th>iupac</th>\n",
       "      <th>htype</th>\n",
       "      <th>mindhr</th>\n",
       "      <th>subcat_id</th>\n",
       "      <th>value</th>\n",
       "      <th>canonical_smiles</th>\n",
       "      <th>complexity</th>\n",
       "      <th>molecular_weight</th>\n",
       "      <th>tpsa</th>\n",
       "      <th>h_bond_acceptor_count</th>\n",
       "      <th>h_bond_donor_count</th>\n",
       "      <th>covalent_unit_count</th>\n",
       "    </tr>\n",
       "  </thead>\n",
       "  <tbody>\n",
       "    <tr>\n",
       "      <th>0</th>\n",
       "      <td>AAPLIUHOKVUFCC-UHFFFAOYSA-N</td>\n",
       "      <td>4565</td>\n",
       "      <td>trimethylsilanol</td>\n",
       "      <td>M</td>\n",
       "      <td>NaN</td>\n",
       "      <td>55</td>\n",
       "      <td>0.070000</td>\n",
       "      <td>C[Si](C)(C)O</td>\n",
       "      <td>28.4</td>\n",
       "      <td>90.20</td>\n",
       "      <td>20.2</td>\n",
       "      <td>1</td>\n",
       "      <td>1</td>\n",
       "      <td>1</td>\n",
       "    </tr>\n",
       "    <tr>\n",
       "      <th>1</th>\n",
       "      <td>ABVVEAHYODGCLZ-UHFFFAOYSA-N</td>\n",
       "      <td>1654</td>\n",
       "      <td>1-tridecanamine</td>\n",
       "      <td>M</td>\n",
       "      <td>NaN</td>\n",
       "      <td>30</td>\n",
       "      <td>0.090000</td>\n",
       "      <td>CCCCCCCCCCCCCN</td>\n",
       "      <td>91.2</td>\n",
       "      <td>199.38</td>\n",
       "      <td>26.0</td>\n",
       "      <td>1</td>\n",
       "      <td>1</td>\n",
       "      <td>1</td>\n",
       "    </tr>\n",
       "    <tr>\n",
       "      <th>2</th>\n",
       "      <td>AFABGHUZZDYHJO-UHFFFAOYSA-N</td>\n",
       "      <td>87</td>\n",
       "      <td>2-methylpentane</td>\n",
       "      <td>M</td>\n",
       "      <td>960.0</td>\n",
       "      <td>11</td>\n",
       "      <td>0.000013</td>\n",
       "      <td>CCCC(C)C</td>\n",
       "      <td>21.2</td>\n",
       "      <td>86.18</td>\n",
       "      <td>0.0</td>\n",
       "      <td>0</td>\n",
       "      <td>0</td>\n",
       "      <td>1</td>\n",
       "    </tr>\n",
       "    <tr>\n",
       "      <th>3</th>\n",
       "      <td>AFYPFACVUDMOHA-UHFFFAOYSA-N</td>\n",
       "      <td>3670</td>\n",
       "      <td>chlorotrifluoromethane</td>\n",
       "      <td>M</td>\n",
       "      <td>2050.0</td>\n",
       "      <td>46</td>\n",
       "      <td>0.000009</td>\n",
       "      <td>C(F)(F)(F)Cl</td>\n",
       "      <td>28.4</td>\n",
       "      <td>104.46</td>\n",
       "      <td>0.0</td>\n",
       "      <td>3</td>\n",
       "      <td>0</td>\n",
       "      <td>1</td>\n",
       "    </tr>\n",
       "    <tr>\n",
       "      <th>4</th>\n",
       "      <td>AGDYNDJUZRMYRG-UHFFFAOYSA-N</td>\n",
       "      <td>2220</td>\n",
       "      <td>1-hexyl nitrate</td>\n",
       "      <td>M</td>\n",
       "      <td>6700.0</td>\n",
       "      <td>35</td>\n",
       "      <td>0.007600</td>\n",
       "      <td>CCCCCCO[N+](=O)[O-]</td>\n",
       "      <td>89.5</td>\n",
       "      <td>147.17</td>\n",
       "      <td>55.0</td>\n",
       "      <td>3</td>\n",
       "      <td>0</td>\n",
       "      <td>1</td>\n",
       "    </tr>\n",
       "  </tbody>\n",
       "</table>\n",
       "</div>"
      ],
      "text/plain": [
       "                      inchikey  species_id                   iupac htype  \\\n",
       "0  AAPLIUHOKVUFCC-UHFFFAOYSA-N        4565        trimethylsilanol     M   \n",
       "1  ABVVEAHYODGCLZ-UHFFFAOYSA-N        1654         1-tridecanamine     M   \n",
       "2  AFABGHUZZDYHJO-UHFFFAOYSA-N          87         2-methylpentane     M   \n",
       "3  AFYPFACVUDMOHA-UHFFFAOYSA-N        3670  chlorotrifluoromethane     M   \n",
       "4  AGDYNDJUZRMYRG-UHFFFAOYSA-N        2220         1-hexyl nitrate     M   \n",
       "\n",
       "   mindhr  subcat_id     value     canonical_smiles  complexity  \\\n",
       "0     NaN         55  0.070000         C[Si](C)(C)O        28.4   \n",
       "1     NaN         30  0.090000       CCCCCCCCCCCCCN        91.2   \n",
       "2   960.0         11  0.000013             CCCC(C)C        21.2   \n",
       "3  2050.0         46  0.000009         C(F)(F)(F)Cl        28.4   \n",
       "4  6700.0         35  0.007600  CCCCCCO[N+](=O)[O-]        89.5   \n",
       "\n",
       "   molecular_weight  tpsa  h_bond_acceptor_count  h_bond_donor_count  \\\n",
       "0             90.20  20.2                      1                   1   \n",
       "1            199.38  26.0                      1                   1   \n",
       "2             86.18   0.0                      0                   0   \n",
       "3            104.46   0.0                      3                   0   \n",
       "4            147.17  55.0                      3                   0   \n",
       "\n",
       "   covalent_unit_count  \n",
       "0                    1  \n",
       "1                    1  \n",
       "2                    1  \n",
       "3                    1  \n",
       "4                    1  "
      ]
     },
     "execution_count": 24,
     "metadata": {},
     "output_type": "execute_result"
    }
   ],
   "source": [
    "df.head()"
   ]
  },
  {
   "cell_type": "code",
   "execution_count": 219,
   "metadata": {},
   "outputs": [
    {
     "name": "stderr",
     "output_type": "stream",
     "text": [
      "Failed to featurize datapoint 0, N. Appending empty array\n",
      "Exception message: More than one atom should be present in the molecule for this featurizer to work.\n",
      "Failed to featurize datapoint 0, C. Appending empty array\n",
      "Exception message: More than one atom should be present in the molecule for this featurizer to work.\n",
      "Failed to featurize datapoint 0, P. Appending empty array\n",
      "Exception message: More than one atom should be present in the molecule for this featurizer to work.\n"
     ]
    }
   ],
   "source": [
    "rdkit_descriptors = []\n",
    "graph_conv = []\n",
    "m2v_smiles = []\n",
    "y_vals = []\n",
    "subcats = []\n",
    "rdkit_featurizer = dc.feat.RDKitDescriptors()\n",
    "gcn_featurizer = dc.feat.MolGraphConvFeaturizer()\n",
    "for smiles, cat_id, y_val in zip(df['canonical_smiles'], df['subcat_id'], df['value']):\n",
    "\n",
    "\t# Try RDKIT featurize\n",
    "\trdk = rdkit_featurizer.featurize(smiles)[0]\n",
    "\n",
    "\tif np.isnan(np.min(rdk)) or np.isnan(np.max(rdk)):\n",
    "\t\tcontinue\n",
    "\n",
    "\t# Get the Graph Conv \n",
    "\tgcn = gcn_featurizer.featurize(smiles)[0]\n",
    "\tif type(gcn) != dc.feat.graph_data.GraphData:\n",
    "\t\tcontinue\n",
    "\n",
    "\trdkit_descriptors.append(rdk)\n",
    "\tgraph_conv.append(gcn)\n",
    "\tm2v_smiles.append(smiles)\n",
    "\tsubcats.append(cat_id)\n",
    "\ty_vals.append(y_val)"
   ]
  },
  {
   "cell_type": "code",
   "execution_count": 220,
   "metadata": {},
   "outputs": [],
   "source": [
    "# Remove values with fewer than 5 examples\n",
    "y_vals_sc = np.array(y_vals)[np.array(subcats) > 4]\n",
    "subcats_sc = np.array(subcats)[np.array(subcats) > 4]\n",
    "rdkit_descriptors_sc = np.array(rdkit_descriptors)[np.array(subcats) > 4]\n",
    "graph_conv_sc = np.array(graph_conv)[np.array(subcats) > 4]\n",
    "m2v_smiles_sc = np.array(m2v_smiles)[np.array(subcats) > 4]"
   ]
  },
  {
   "cell_type": "code",
   "execution_count": 221,
   "metadata": {},
   "outputs": [
    {
     "name": "stdout",
     "output_type": "stream",
     "text": [
      "Min:  1.2e-07\n",
      "Max:  23000000000.0\n"
     ]
    }
   ],
   "source": [
    "print(\"Min: \", min(y_vals_sc))\n",
    "print(\"Max: \", max(y_vals_sc))"
   ]
  },
  {
   "cell_type": "code",
   "execution_count": 222,
   "metadata": {},
   "outputs": [],
   "source": [
    "# Log transform on the y values\n",
    "y_log = np.log10(y_vals_sc)"
   ]
  },
  {
   "cell_type": "code",
   "execution_count": 246,
   "metadata": {},
   "outputs": [
    {
     "data": {
      "text/plain": [
       "['MaxEStateIndex',\n",
       " 'MinEStateIndex',\n",
       " 'MaxAbsEStateIndex',\n",
       " 'MinAbsEStateIndex',\n",
       " 'qed',\n",
       " 'MolWt',\n",
       " 'HeavyAtomMolWt',\n",
       " 'ExactMolWt',\n",
       " 'NumValenceElectrons',\n",
       " 'NumRadicalElectrons',\n",
       " 'MaxPartialCharge',\n",
       " 'MinPartialCharge',\n",
       " 'MaxAbsPartialCharge',\n",
       " 'MinAbsPartialCharge',\n",
       " 'FpDensityMorgan1',\n",
       " 'FpDensityMorgan2',\n",
       " 'FpDensityMorgan3',\n",
       " 'BCUT2D_MWHI',\n",
       " 'BCUT2D_MWLOW',\n",
       " 'BCUT2D_CHGHI',\n",
       " 'BCUT2D_CHGLO',\n",
       " 'BCUT2D_LOGPHI',\n",
       " 'BCUT2D_LOGPLOW',\n",
       " 'BCUT2D_MRHI',\n",
       " 'BCUT2D_MRLOW',\n",
       " 'BalabanJ',\n",
       " 'BertzCT',\n",
       " 'Chi0',\n",
       " 'Chi0n',\n",
       " 'Chi0v',\n",
       " 'Chi1',\n",
       " 'Chi1n',\n",
       " 'Chi1v',\n",
       " 'Chi2n',\n",
       " 'Chi2v',\n",
       " 'Chi3n',\n",
       " 'Chi3v',\n",
       " 'Chi4n',\n",
       " 'Chi4v',\n",
       " 'HallKierAlpha',\n",
       " 'Ipc',\n",
       " 'Kappa1',\n",
       " 'Kappa2',\n",
       " 'Kappa3',\n",
       " 'LabuteASA',\n",
       " 'PEOE_VSA1',\n",
       " 'PEOE_VSA10',\n",
       " 'PEOE_VSA11',\n",
       " 'PEOE_VSA12',\n",
       " 'PEOE_VSA13',\n",
       " 'PEOE_VSA14',\n",
       " 'PEOE_VSA2',\n",
       " 'PEOE_VSA3',\n",
       " 'PEOE_VSA4',\n",
       " 'PEOE_VSA5',\n",
       " 'PEOE_VSA6',\n",
       " 'PEOE_VSA7',\n",
       " 'PEOE_VSA8',\n",
       " 'PEOE_VSA9',\n",
       " 'SMR_VSA1',\n",
       " 'SMR_VSA10',\n",
       " 'SMR_VSA2',\n",
       " 'SMR_VSA3',\n",
       " 'SMR_VSA4',\n",
       " 'SMR_VSA5',\n",
       " 'SMR_VSA6',\n",
       " 'SMR_VSA7',\n",
       " 'SMR_VSA8',\n",
       " 'SMR_VSA9',\n",
       " 'SlogP_VSA1',\n",
       " 'SlogP_VSA10',\n",
       " 'SlogP_VSA11',\n",
       " 'SlogP_VSA12',\n",
       " 'SlogP_VSA2',\n",
       " 'SlogP_VSA3',\n",
       " 'SlogP_VSA4',\n",
       " 'SlogP_VSA5',\n",
       " 'SlogP_VSA6',\n",
       " 'SlogP_VSA7',\n",
       " 'SlogP_VSA8',\n",
       " 'SlogP_VSA9',\n",
       " 'TPSA',\n",
       " 'EState_VSA1',\n",
       " 'EState_VSA10',\n",
       " 'EState_VSA11',\n",
       " 'EState_VSA2',\n",
       " 'EState_VSA3',\n",
       " 'EState_VSA4',\n",
       " 'EState_VSA5',\n",
       " 'EState_VSA6',\n",
       " 'EState_VSA7',\n",
       " 'EState_VSA8',\n",
       " 'EState_VSA9',\n",
       " 'VSA_EState1',\n",
       " 'VSA_EState10',\n",
       " 'VSA_EState2',\n",
       " 'VSA_EState3',\n",
       " 'VSA_EState4',\n",
       " 'VSA_EState5',\n",
       " 'VSA_EState6',\n",
       " 'VSA_EState7',\n",
       " 'VSA_EState8',\n",
       " 'VSA_EState9',\n",
       " 'FractionCSP3',\n",
       " 'HeavyAtomCount',\n",
       " 'NHOHCount',\n",
       " 'NOCount',\n",
       " 'NumAliphaticCarbocycles',\n",
       " 'NumAliphaticHeterocycles',\n",
       " 'NumAliphaticRings',\n",
       " 'NumAromaticCarbocycles',\n",
       " 'NumAromaticHeterocycles',\n",
       " 'NumAromaticRings',\n",
       " 'NumHAcceptors',\n",
       " 'NumHDonors',\n",
       " 'NumHeteroatoms',\n",
       " 'NumRotatableBonds',\n",
       " 'NumSaturatedCarbocycles',\n",
       " 'NumSaturatedHeterocycles',\n",
       " 'NumSaturatedRings',\n",
       " 'RingCount',\n",
       " 'MolLogP',\n",
       " 'MolMR',\n",
       " 'fr_Al_COO',\n",
       " 'fr_Al_OH',\n",
       " 'fr_Al_OH_noTert',\n",
       " 'fr_ArN',\n",
       " 'fr_Ar_COO',\n",
       " 'fr_Ar_N',\n",
       " 'fr_Ar_NH',\n",
       " 'fr_Ar_OH',\n",
       " 'fr_COO',\n",
       " 'fr_COO2',\n",
       " 'fr_C_O',\n",
       " 'fr_C_O_noCOO',\n",
       " 'fr_C_S',\n",
       " 'fr_HOCCN',\n",
       " 'fr_Imine',\n",
       " 'fr_NH0',\n",
       " 'fr_NH1',\n",
       " 'fr_NH2',\n",
       " 'fr_N_O',\n",
       " 'fr_Ndealkylation1',\n",
       " 'fr_Ndealkylation2',\n",
       " 'fr_Nhpyrrole',\n",
       " 'fr_SH',\n",
       " 'fr_aldehyde',\n",
       " 'fr_alkyl_carbamate',\n",
       " 'fr_alkyl_halide',\n",
       " 'fr_allylic_oxid',\n",
       " 'fr_amide',\n",
       " 'fr_amidine',\n",
       " 'fr_aniline',\n",
       " 'fr_aryl_methyl',\n",
       " 'fr_azide',\n",
       " 'fr_azo',\n",
       " 'fr_barbitur',\n",
       " 'fr_benzene',\n",
       " 'fr_benzodiazepine',\n",
       " 'fr_bicyclic',\n",
       " 'fr_diazo',\n",
       " 'fr_dihydropyridine',\n",
       " 'fr_epoxide',\n",
       " 'fr_ester',\n",
       " 'fr_ether',\n",
       " 'fr_furan',\n",
       " 'fr_guanido',\n",
       " 'fr_halogen',\n",
       " 'fr_hdrzine',\n",
       " 'fr_hdrzone',\n",
       " 'fr_imidazole',\n",
       " 'fr_imide',\n",
       " 'fr_isocyan',\n",
       " 'fr_isothiocyan',\n",
       " 'fr_ketone',\n",
       " 'fr_ketone_Topliss',\n",
       " 'fr_lactam',\n",
       " 'fr_lactone',\n",
       " 'fr_methoxy',\n",
       " 'fr_morpholine',\n",
       " 'fr_nitrile',\n",
       " 'fr_nitro',\n",
       " 'fr_nitro_arom',\n",
       " 'fr_nitro_arom_nonortho',\n",
       " 'fr_nitroso',\n",
       " 'fr_oxazole',\n",
       " 'fr_oxime',\n",
       " 'fr_para_hydroxylation',\n",
       " 'fr_phenol',\n",
       " 'fr_phenol_noOrthoHbond',\n",
       " 'fr_phos_acid',\n",
       " 'fr_phos_ester',\n",
       " 'fr_piperdine',\n",
       " 'fr_piperzine',\n",
       " 'fr_priamide',\n",
       " 'fr_prisulfonamd',\n",
       " 'fr_pyridine',\n",
       " 'fr_quatN',\n",
       " 'fr_sulfide',\n",
       " 'fr_sulfonamd',\n",
       " 'fr_sulfone',\n",
       " 'fr_term_acetylene',\n",
       " 'fr_tetrazole',\n",
       " 'fr_thiazole',\n",
       " 'fr_thiocyan',\n",
       " 'fr_thiophene',\n",
       " 'fr_unbrch_alkane',\n",
       " 'fr_urea']"
      ]
     },
     "execution_count": 246,
     "metadata": {},
     "output_type": "execute_result"
    }
   ],
   "source": [
    "# List of descriptors:\n",
    "rdkit_featurizer.descriptors"
   ]
  },
  {
   "cell_type": "markdown",
   "metadata": {},
   "source": [
    "# Model 1 - Using RDKit Descriptors."
   ]
  },
  {
   "cell_type": "code",
   "execution_count": 223,
   "metadata": {},
   "outputs": [],
   "source": [
    "# Split into a train/test set, stratified on categories\n",
    "X_train, X_test, y_train, y_test = train_test_split(rdkit_descriptors_sc, y_log, test_size=0.2, random_state=42)"
   ]
  },
  {
   "cell_type": "code",
   "execution_count": 224,
   "metadata": {},
   "outputs": [
    {
     "data": {
      "text/plain": [
       "0.8728845415775468"
      ]
     },
     "execution_count": 224,
     "metadata": {},
     "output_type": "execute_result"
    }
   ],
   "source": [
    "# Try a random forest regressor\n",
    "rf = RandomForestRegressor()\n",
    "\n",
    "rf.fit(X_train, y_train)\n",
    "\n",
    "rf.score(X_test, y_test)"
   ]
  },
  {
   "cell_type": "code",
   "execution_count": 225,
   "metadata": {},
   "outputs": [
    {
     "data": {
      "text/plain": [
       "0.8120724627817979"
      ]
     },
     "execution_count": 225,
     "metadata": {},
     "output_type": "execute_result"
    }
   ],
   "source": [
    "# Try a ridge regression\n",
    "lm = Ridge(1)\n",
    "\n",
    "lm.fit(X_train, y_train)\n",
    "\n",
    "lm.score(X_test, y_test)"
   ]
  },
  {
   "cell_type": "code",
   "execution_count": 226,
   "metadata": {},
   "outputs": [
    {
     "data": {
      "text/plain": [
       "0.5954115029738744"
      ]
     },
     "execution_count": 226,
     "metadata": {},
     "output_type": "execute_result"
    }
   ],
   "source": [
    "knn = KNeighborsRegressor(5)\n",
    "\n",
    "knn.fit(X_train, y_train)\n",
    "\n",
    "knn.score(X_test, y_test)"
   ]
  },
  {
   "cell_type": "markdown",
   "metadata": {},
   "source": [
    "## Fine tuning the random forest model\n",
    "We are going to look at adjusting the number of iterators and decreasing the number of max splits to see if model performance can be improved."
   ]
  },
  {
   "cell_type": "code",
   "execution_count": 231,
   "metadata": {},
   "outputs": [],
   "source": [
    "# Split the training data using KFold\n",
    "from sklearn.model_selection import KFold\n",
    "\n",
    "folds = KFold(n_splits=4, shuffle=True, random_state=42)\n",
    "\n",
    "num_ests = [100, 200, 300]\n",
    "r2_scores = []\n",
    "\n",
    "for n in num_ests:\n",
    "\tn_est_r2_score = []\n",
    "\tfor train_idx, val_idx in folds.split(X_train):\n",
    "\t\tX_train_fold, X_val_fold = X_train[train_idx], X_train[val_idx]\n",
    "\t\ty_train_fold, y_val_fold = y_train[train_idx], y_train[val_idx]\n",
    "\n",
    "\t\trf = RandomForestRegressor(n_estimators=n)\n",
    "\n",
    "\t\trf.fit(X_train_fold, y_train_fold)\n",
    "\n",
    "\t\tn_est_r2_score.append(rf.score(X_val_fold, y_val_fold))\n",
    "\n",
    "\tr2_scores.append(np.mean(n_est_r2_score))"
   ]
  },
  {
   "cell_type": "code",
   "execution_count": 232,
   "metadata": {},
   "outputs": [
    {
     "data": {
      "text/plain": [
       "[<matplotlib.lines.Line2D at 0x7f7f9a073210>]"
      ]
     },
     "execution_count": 232,
     "metadata": {},
     "output_type": "execute_result"
    },
    {
     "data": {
      "image/png": "[encoded data removed]",
      "text/plain": [
       "<Figure size 432x288 with 1 Axes>"
      ]
     },
     "metadata": {
      "needs_background": "light"
     },
     "output_type": "display_data"
    }
   ],
   "source": [
    "plt.plot(num_ests, r2_scores)"
   ]
  },
  {
   "cell_type": "code",
   "execution_count": 237,
   "metadata": {},
   "outputs": [],
   "source": [
    "# Split the training data using KFold\n",
    "from sklearn.model_selection import KFold\n",
    "\n",
    "folds = KFold(n_splits=4, shuffle=True, random_state=42)\n",
    "\n",
    "max_depths = [3, 5, 10, 15]\n",
    "r2_scores = []\n",
    "\n",
    "for n in max_depths:\n",
    "\tn_est_r2_score = []\n",
    "\tfor train_idx, val_idx in folds.split(X_train):\n",
    "\t\tX_train_fold, X_val_fold = X_train[train_idx], X_train[val_idx]\n",
    "\t\ty_train_fold, y_val_fold = y_train[train_idx], y_train[val_idx]\n",
    "\n",
    "\t\trf = RandomForestRegressor(n_estimators=200, max_depth=n)\n",
    "\n",
    "\t\trf.fit(X_train_fold, y_train_fold)\n",
    "\n",
    "\t\tn_est_r2_score.append(rf.score(X_val_fold, y_val_fold))\n",
    "\n",
    "\tr2_scores.append(np.mean(n_est_r2_score))"
   ]
  },
  {
   "cell_type": "code",
   "execution_count": 236,
   "metadata": {},
   "outputs": [
    {
     "data": {
      "text/plain": [
       "[<matplotlib.lines.Line2D at 0x7f7f9c3c0c10>]"
      ]
     },
     "execution_count": 236,
     "metadata": {},
     "output_type": "execute_result"
    },
    {
     "data": {
      "image/png": "[encoded data removed]",
      "text/plain": [
       "<Figure size 432x288 with 1 Axes>"
      ]
     },
     "metadata": {
      "needs_background": "light"
     },
     "output_type": "display_data"
    }
   ],
   "source": [
    "plt.plot(max_depths, r2_scores)"
   ]
  },
  {
   "cell_type": "code",
   "execution_count": 243,
   "metadata": {},
   "outputs": [
    {
     "data": {
      "text/plain": [
       "0.8693850727437107"
      ]
     },
     "execution_count": 243,
     "metadata": {},
     "output_type": "execute_result"
    }
   ],
   "source": [
    "rf = RandomForestRegressor(n_estimators=200, max_depth=10)\n",
    "\n",
    "rf.fit(X_train, y_train)\n",
    "\n",
    "rf.score(X_test, y_test)"
   ]
  },
  {
   "cell_type": "code",
   "execution_count": 244,
   "metadata": {},
   "outputs": [
    {
     "data": {
      "text/plain": [
       "0.5028213113134737"
      ]
     },
     "execution_count": 244,
     "metadata": {},
     "output_type": "execute_result"
    }
   ],
   "source": [
    "# Mean squared error\n",
    "mean_squared_error(y_test, rf.predict(X_test))"
   ]
  },
  {
   "cell_type": "code",
   "execution_count": 245,
   "metadata": {},
   "outputs": [
    {
     "name": "stdout",
     "output_type": "stream",
     "text": [
      "R2 on train:  0.9666431709243358\n",
      "MSE on train:  0.1253848936092277\n"
     ]
    }
   ],
   "source": [
    "print(\"R2 on train: \", rf.score(X_train, y_train))\n",
    "print(\"MSE on train: \", mean_squared_error(y_train, rf.predict(X_train)))"
   ]
  },
  {
   "cell_type": "markdown",
   "metadata": {},
   "source": [
    "# Supplemental Material\n",
    "I want to look at the principal components between the values as well as the principal components only within one subcategory."
   ]
  },
  {
   "cell_type": "code",
   "execution_count": 207,
   "metadata": {},
   "outputs": [],
   "source": [
    "from sklearn.decomposition import PCA\n",
    "\n",
    "pca1 = PCA(n_components=2)\n",
    "\n",
    "pca_all = pca1.fit_transform(rdkit_descriptors_sc)"
   ]
  },
  {
   "cell_type": "code",
   "execution_count": 210,
   "metadata": {},
   "outputs": [
    {
     "data": {
      "image/png": "[encoded data removed]",
      "text/plain": [
       "<Figure size 432x288 with 1 Axes>"
      ]
     },
     "metadata": {
      "needs_background": "light"
     },
     "output_type": "display_data"
    }
   ],
   "source": [
    "fig = plt.figure()\n",
    "plt.scatter(pca_all[:, 0], pca_all[:, 1])\n",
    "plt.xlabel('PC 1')\n",
    "plt.ylabel('PC 2')\n",
    "plt.show()\n",
    "fig.savefig(\"PCA_all.png\")"
   ]
  },
  {
   "cell_type": "code",
   "execution_count": 211,
   "metadata": {},
   "outputs": [],
   "source": [
    "one_cat = np.array(rdkit_descriptors)[np.array(subcats) == 40]\n",
    "\n",
    "pca2 = PCA(n_components=2)\n",
    "pca_one = pca2.fit_transform(one_cat)\n",
    "pca_all2 = pca2.transform(rdkit_descriptors_sc)"
   ]
  },
  {
   "cell_type": "code",
   "execution_count": 213,
   "metadata": {},
   "outputs": [
    {
     "data": {
      "image/png": "[encoded data removed]",
      "text/plain": [
       "<Figure size 432x288 with 1 Axes>"
      ]
     },
     "metadata": {
      "needs_background": "light"
     },
     "output_type": "display_data"
    }
   ],
   "source": [
    "fig = plt.figure()\n",
    "plt.scatter(pca_all2[:, 0], pca_all2[:, 1], label='All')\n",
    "plt.scatter(pca_one[:, 0], pca_one[:, 1], label='40')\n",
    "plt.xlabel(\"PC 1\")\n",
    "plt.ylabel(\"PC 2\")\n",
    "plt.legend()\n",
    "plt.show()\n",
    "fig.savefig(\"PCA_subcat40.png\")"
   ]
  },
  {
   "cell_type": "code",
   "execution_count": 200,
   "metadata": {},
   "outputs": [
    {
     "data": {
      "text/plain": [
       "(130, 208)"
      ]
     },
     "execution_count": 200,
     "metadata": {},
     "output_type": "execute_result"
    }
   ],
   "source": [
    "one_cat.shape"
   ]
  },
  {
   "cell_type": "code",
   "execution_count": null,
   "metadata": {},
   "outputs": [],
   "source": [
    "o"
   ]
  }
 ],
 "metadata": {
  "interpreter": {
   "hash": "a20cfb60123635284eb8f9c62751e2ffe7b903a5cea9107815b8df185bbe505f"
  },
  "kernelspec": {
   "display_name": "Python 3.7.13 ('deepchem')",
   "language": "python",
   "name": "python3"
  },
  "language_info": {
   "codemirror_mode": {
    "name": "ipython",
    "version": 3
   },
   "file_extension": ".py",
   "mimetype": "text/x-python",
   "name": "python",
   "nbconvert_exporter": "python",
   "pygments_lexer": "ipython3",
   "version": "3.7.13"
  },
  "orig_nbformat": 4
 },
 "nbformat": 4,
 "nbformat_minor": 2
}
